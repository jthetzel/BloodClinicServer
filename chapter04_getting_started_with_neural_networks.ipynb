{
  "nbformat": 4,
  "nbformat_minor": 0,
  "metadata": {
    "colab": {
      "name": "chapter04_getting-started-with-neural-networks.ipynb",
      "provenance": [],
      "authorship_tag": "ABX9TyOWnPOhUyADb6NDVQigVswN",
      "include_colab_link": true
    },
    "kernelspec": {
      "name": "python3",
      "display_name": "Python 3"
    },
    "language_info": {
      "name": "python"
    }
  },
  "cells": [
    {
      "cell_type": "markdown",
      "metadata": {
        "id": "view-in-github",
        "colab_type": "text"
      },
      "source": [
        "<a href=\"https://colab.research.google.com/github/jthetzel/BloodClinicServer/blob/master/chapter04_getting_started_with_neural_networks.ipynb\" target=\"_parent\"><img src=\"https://colab.research.google.com/assets/colab-badge.svg\" alt=\"Open In Colab\"/></a>"
      ]
    },
    {
      "cell_type": "code",
      "execution_count": 1,
      "metadata": {
        "colab": {
          "base_uri": "https://localhost:8080/"
        },
        "id": "vdn0eb1szD37",
        "outputId": "2255a5a2-60b2-4afa-9ae7-4c86a7a32d51"
      },
      "outputs": [
        {
          "output_type": "stream",
          "name": "stdout",
          "text": [
            "Downloading data from https://storage.googleapis.com/tensorflow/tf-keras-datasets/imdb.npz\n",
            "17465344/17464789 [==============================] - 0s 0us/step\n",
            "17473536/17464789 [==============================] - 0s 0us/step\n"
          ]
        }
      ],
      "source": [
        "from tensorflow.keras.datasets import imdb\n",
        "\n",
        "(train_data, train_labels), (test_data, test_labels) = imdb.load_data(num_words=10_000)"
      ]
    },
    {
      "cell_type": "code",
      "source": [
        "train_data[0]"
      ],
      "metadata": {
        "colab": {
          "base_uri": "https://localhost:8080/"
        },
        "id": "r4hkfithzRAP",
        "outputId": "daeb5b36-4452-43ad-d121-e72f1ae9c00b"
      },
      "execution_count": 2,
      "outputs": [
        {
          "output_type": "execute_result",
          "data": {
            "text/plain": [
              "[1,\n",
              " 14,\n",
              " 22,\n",
              " 16,\n",
              " 43,\n",
              " 530,\n",
              " 973,\n",
              " 1622,\n",
              " 1385,\n",
              " 65,\n",
              " 458,\n",
              " 4468,\n",
              " 66,\n",
              " 3941,\n",
              " 4,\n",
              " 173,\n",
              " 36,\n",
              " 256,\n",
              " 5,\n",
              " 25,\n",
              " 100,\n",
              " 43,\n",
              " 838,\n",
              " 112,\n",
              " 50,\n",
              " 670,\n",
              " 2,\n",
              " 9,\n",
              " 35,\n",
              " 480,\n",
              " 284,\n",
              " 5,\n",
              " 150,\n",
              " 4,\n",
              " 172,\n",
              " 112,\n",
              " 167,\n",
              " 2,\n",
              " 336,\n",
              " 385,\n",
              " 39,\n",
              " 4,\n",
              " 172,\n",
              " 4536,\n",
              " 1111,\n",
              " 17,\n",
              " 546,\n",
              " 38,\n",
              " 13,\n",
              " 447,\n",
              " 4,\n",
              " 192,\n",
              " 50,\n",
              " 16,\n",
              " 6,\n",
              " 147,\n",
              " 2025,\n",
              " 19,\n",
              " 14,\n",
              " 22,\n",
              " 4,\n",
              " 1920,\n",
              " 4613,\n",
              " 469,\n",
              " 4,\n",
              " 22,\n",
              " 71,\n",
              " 87,\n",
              " 12,\n",
              " 16,\n",
              " 43,\n",
              " 530,\n",
              " 38,\n",
              " 76,\n",
              " 15,\n",
              " 13,\n",
              " 1247,\n",
              " 4,\n",
              " 22,\n",
              " 17,\n",
              " 515,\n",
              " 17,\n",
              " 12,\n",
              " 16,\n",
              " 626,\n",
              " 18,\n",
              " 2,\n",
              " 5,\n",
              " 62,\n",
              " 386,\n",
              " 12,\n",
              " 8,\n",
              " 316,\n",
              " 8,\n",
              " 106,\n",
              " 5,\n",
              " 4,\n",
              " 2223,\n",
              " 5244,\n",
              " 16,\n",
              " 480,\n",
              " 66,\n",
              " 3785,\n",
              " 33,\n",
              " 4,\n",
              " 130,\n",
              " 12,\n",
              " 16,\n",
              " 38,\n",
              " 619,\n",
              " 5,\n",
              " 25,\n",
              " 124,\n",
              " 51,\n",
              " 36,\n",
              " 135,\n",
              " 48,\n",
              " 25,\n",
              " 1415,\n",
              " 33,\n",
              " 6,\n",
              " 22,\n",
              " 12,\n",
              " 215,\n",
              " 28,\n",
              " 77,\n",
              " 52,\n",
              " 5,\n",
              " 14,\n",
              " 407,\n",
              " 16,\n",
              " 82,\n",
              " 2,\n",
              " 8,\n",
              " 4,\n",
              " 107,\n",
              " 117,\n",
              " 5952,\n",
              " 15,\n",
              " 256,\n",
              " 4,\n",
              " 2,\n",
              " 7,\n",
              " 3766,\n",
              " 5,\n",
              " 723,\n",
              " 36,\n",
              " 71,\n",
              " 43,\n",
              " 530,\n",
              " 476,\n",
              " 26,\n",
              " 400,\n",
              " 317,\n",
              " 46,\n",
              " 7,\n",
              " 4,\n",
              " 2,\n",
              " 1029,\n",
              " 13,\n",
              " 104,\n",
              " 88,\n",
              " 4,\n",
              " 381,\n",
              " 15,\n",
              " 297,\n",
              " 98,\n",
              " 32,\n",
              " 2071,\n",
              " 56,\n",
              " 26,\n",
              " 141,\n",
              " 6,\n",
              " 194,\n",
              " 7486,\n",
              " 18,\n",
              " 4,\n",
              " 226,\n",
              " 22,\n",
              " 21,\n",
              " 134,\n",
              " 476,\n",
              " 26,\n",
              " 480,\n",
              " 5,\n",
              " 144,\n",
              " 30,\n",
              " 5535,\n",
              " 18,\n",
              " 51,\n",
              " 36,\n",
              " 28,\n",
              " 224,\n",
              " 92,\n",
              " 25,\n",
              " 104,\n",
              " 4,\n",
              " 226,\n",
              " 65,\n",
              " 16,\n",
              " 38,\n",
              " 1334,\n",
              " 88,\n",
              " 12,\n",
              " 16,\n",
              " 283,\n",
              " 5,\n",
              " 16,\n",
              " 4472,\n",
              " 113,\n",
              " 103,\n",
              " 32,\n",
              " 15,\n",
              " 16,\n",
              " 5345,\n",
              " 19,\n",
              " 178,\n",
              " 32]"
            ]
          },
          "metadata": {},
          "execution_count": 2
        }
      ]
    },
    {
      "cell_type": "code",
      "source": [
        "train_labels[0]"
      ],
      "metadata": {
        "colab": {
          "base_uri": "https://localhost:8080/"
        },
        "id": "wPZw3zVezUTj",
        "outputId": "44fa7b27-7858-4e51-bbcd-10761c2f6858"
      },
      "execution_count": 3,
      "outputs": [
        {
          "output_type": "execute_result",
          "data": {
            "text/plain": [
              "1"
            ]
          },
          "metadata": {},
          "execution_count": 3
        }
      ]
    },
    {
      "cell_type": "code",
      "source": [
        "max([max(sequence) for sequence in train_data])"
      ],
      "metadata": {
        "colab": {
          "base_uri": "https://localhost:8080/"
        },
        "id": "H3-W5fR3zWDR",
        "outputId": "4b5ea015-d4b9-470c-f6ff-607bc3229bd9"
      },
      "execution_count": 4,
      "outputs": [
        {
          "output_type": "execute_result",
          "data": {
            "text/plain": [
              "9999"
            ]
          },
          "metadata": {},
          "execution_count": 4
        }
      ]
    },
    {
      "cell_type": "markdown",
      "source": [
        "## Decode review to text"
      ],
      "metadata": {
        "id": "pH4O-TmVzbO0"
      }
    },
    {
      "cell_type": "code",
      "source": [
        "word_index = imdb.get_word_index()\n",
        "reverse_word_index = dict(\n",
        "    [(value, key) for (key, value) in word_index.items()]\n",
        ")\n",
        "decoded_review = \" \".join(\n",
        "  [reverse_word_index.get(i - 3, \"?\") for i in train_data[0]]    \n",
        ")"
      ],
      "metadata": {
        "colab": {
          "base_uri": "https://localhost:8080/"
        },
        "id": "pyloizb_zf_r",
        "outputId": "e3a7dec5-50fc-4fff-faef-4c0b20ccdb90"
      },
      "execution_count": 5,
      "outputs": [
        {
          "output_type": "stream",
          "name": "stdout",
          "text": [
            "Downloading data from https://storage.googleapis.com/tensorflow/tf-keras-datasets/imdb_word_index.json\n",
            "1646592/1641221 [==============================] - 0s 0us/step\n",
            "1654784/1641221 [==============================] - 0s 0us/step\n"
          ]
        }
      ]
    },
    {
      "cell_type": "code",
      "source": [
        "decoded_review"
      ],
      "metadata": {
        "colab": {
          "base_uri": "https://localhost:8080/",
          "height": 209
        },
        "id": "H4iRKa6wz59R",
        "outputId": "b418fdb2-e04c-4b76-df34-bbaea34d76fd"
      },
      "execution_count": 6,
      "outputs": [
        {
          "output_type": "execute_result",
          "data": {
            "text/plain": [
              "\"? this film was just brilliant casting location scenery story direction everyone's really suited the part they played and you could just imagine being there robert ? is an amazing actor and now the same being director ? father came from the same scottish island as myself so i loved the fact there was a real connection with this film the witty remarks throughout the film were great it was just brilliant so much that i bought the film as soon as it was released for ? and would recommend it to everyone to watch and the fly fishing was amazing really cried at the end it was so sad and you know what they say if you cry at a film it must have been good and this definitely was also ? to the two little boy's that played the ? of norman and paul they were just brilliant children are often left out of the ? list i think because the stars that play them all grown up are such a big profile for the whole film but these children are amazing and should be praised for what they have done don't you think the whole story was so lovely because it was true and was someone's life after all that was shared with us all\""
            ],
            "application/vnd.google.colaboratory.intrinsic+json": {
              "type": "string"
            }
          },
          "metadata": {},
          "execution_count": 6
        }
      ]
    },
    {
      "cell_type": "markdown",
      "source": [
        "## Preparing data"
      ],
      "metadata": {
        "id": "ASh1tpeZz-M0"
      }
    },
    {
      "cell_type": "code",
      "source": [
        "import numpy as np\n",
        "\n",
        "def vectorize_sequences(sequences, dimension=10_000):\n",
        "  results = np.zeros((len(sequences), dimension))\n",
        "  for i, sequence in enumerate(sequences):\n",
        "    for j in sequence:\n",
        "      results[i, j] = 1\n",
        "    return results\n",
        "x_train = vectorize_sequences(train_data)\n",
        "x_test = vectorize_sequences(test_data)"
      ],
      "metadata": {
        "id": "e6WIydmF0jhA"
      },
      "execution_count": 7,
      "outputs": []
    },
    {
      "cell_type": "code",
      "source": [
        "x_train[0]"
      ],
      "metadata": {
        "colab": {
          "base_uri": "https://localhost:8080/"
        },
        "id": "81PGodwH1B6w",
        "outputId": "22b438d6-6a1d-475c-fd5c-9ac8dd388f55"
      },
      "execution_count": 8,
      "outputs": [
        {
          "output_type": "execute_result",
          "data": {
            "text/plain": [
              "array([0., 1., 1., ..., 0., 0., 0.])"
            ]
          },
          "metadata": {},
          "execution_count": 8
        }
      ]
    },
    {
      "cell_type": "code",
      "source": [
        "y_train = np.asarray(train_labels).astype(\"float32\")\n",
        "y_test = np.asarray(test_labels).astype(\"float32\")"
      ],
      "metadata": {
        "id": "EGt-fcnL1ISW"
      },
      "execution_count": 9,
      "outputs": []
    },
    {
      "cell_type": "markdown",
      "source": [
        "## Build model"
      ],
      "metadata": {
        "id": "VmV8wlvm1n78"
      }
    },
    {
      "cell_type": "code",
      "source": [
        "from tensorflow import keras\n",
        "from tensorflow.keras import layers\n",
        "\n",
        "model = keras.Sequential([\n",
        "                          layers.Dense(16, activation=\"relu\"),\n",
        "                          layers.Dense(16, activation=\"relu\"),\n",
        "                          layers.Dense(1, activation=\"sigmoid\")               \n",
        "])"
      ],
      "metadata": {
        "id": "Gt9kmuBN1p1z"
      },
      "execution_count": 11,
      "outputs": []
    },
    {
      "cell_type": "code",
      "source": [
        "model.compile(\n",
        "  optimizer=\"rmsprop\",\n",
        "  loss=\"binary_crossentropy\",\n",
        "  metrics=[\"accuracy\"]\n",
        ")"
      ],
      "metadata": {
        "id": "eUKV1m4x8khI"
      },
      "execution_count": 12,
      "outputs": []
    },
    {
      "cell_type": "markdown",
      "source": [
        "## Validation"
      ],
      "metadata": {
        "id": "fOg6m2u18xLe"
      }
    },
    {
      "cell_type": "code",
      "source": [
        "x_val = x_train[:10_000]\n",
        "partial_x_train = x_train[10_000:]\n",
        "y_val = y_train[:10_000]\n",
        "partial_y_train = y_train[10_000:]"
      ],
      "metadata": {
        "id": "Wlul991m8ziT"
      },
      "execution_count": 14,
      "outputs": []
    },
    {
      "cell_type": "markdown",
      "source": [
        "## Train model"
      ],
      "metadata": {
        "id": "NrRS0sjC-A6H"
      }
    },
    {
      "cell_type": "code",
      "source": [
        "history = model.fit(\n",
        "  partial_x_train,\n",
        "  partial_y_train,\n",
        "  epochs=20,\n",
        "  batch_size=512,\n",
        "  validation_data=(x_val, y_val)\n",
        ")"
      ],
      "metadata": {
        "colab": {
          "base_uri": "https://localhost:8080/"
        },
        "id": "fW6gFtzS-F7l",
        "outputId": "44df10e8-5335-48cd-e816-06780bfa0581"
      },
      "execution_count": 21,
      "outputs": [
        {
          "output_type": "stream",
          "name": "stdout",
          "text": [
            "Epoch 1/20\n",
            "30/30 [==============================] - 2s 53ms/step - loss: 0.6931 - accuracy: 0.5035 - val_loss: 0.6933 - val_accuracy: 0.4947\n",
            "Epoch 2/20\n",
            "30/30 [==============================] - 1s 42ms/step - loss: 0.6931 - accuracy: 0.5035 - val_loss: 0.6933 - val_accuracy: 0.4947\n",
            "Epoch 3/20\n",
            "30/30 [==============================] - 1s 42ms/step - loss: 0.6931 - accuracy: 0.5035 - val_loss: 0.6933 - val_accuracy: 0.4947\n",
            "Epoch 4/20\n",
            "30/30 [==============================] - 1s 43ms/step - loss: 0.6931 - accuracy: 0.5035 - val_loss: 0.6933 - val_accuracy: 0.4947\n",
            "Epoch 5/20\n",
            "30/30 [==============================] - 1s 41ms/step - loss: 0.6931 - accuracy: 0.5035 - val_loss: 0.6933 - val_accuracy: 0.4947\n",
            "Epoch 6/20\n",
            "30/30 [==============================] - 1s 42ms/step - loss: 0.6931 - accuracy: 0.5035 - val_loss: 0.6933 - val_accuracy: 0.4947\n",
            "Epoch 7/20\n",
            "30/30 [==============================] - 1s 46ms/step - loss: 0.6931 - accuracy: 0.5035 - val_loss: 0.6933 - val_accuracy: 0.4947\n",
            "Epoch 8/20\n",
            "30/30 [==============================] - 2s 53ms/step - loss: 0.6931 - accuracy: 0.5035 - val_loss: 0.6933 - val_accuracy: 0.4947\n",
            "Epoch 9/20\n",
            "30/30 [==============================] - 1s 42ms/step - loss: 0.6931 - accuracy: 0.5035 - val_loss: 0.6933 - val_accuracy: 0.4947\n",
            "Epoch 10/20\n",
            "30/30 [==============================] - 1s 44ms/step - loss: 0.6931 - accuracy: 0.5035 - val_loss: 0.6933 - val_accuracy: 0.4947\n",
            "Epoch 11/20\n",
            "30/30 [==============================] - 1s 42ms/step - loss: 0.6931 - accuracy: 0.5035 - val_loss: 0.6933 - val_accuracy: 0.4947\n",
            "Epoch 12/20\n",
            "30/30 [==============================] - 1s 42ms/step - loss: 0.6931 - accuracy: 0.5035 - val_loss: 0.6933 - val_accuracy: 0.4947\n",
            "Epoch 13/20\n",
            "30/30 [==============================] - 1s 42ms/step - loss: 0.6931 - accuracy: 0.5035 - val_loss: 0.6933 - val_accuracy: 0.4947\n",
            "Epoch 14/20\n",
            "30/30 [==============================] - 1s 42ms/step - loss: 0.6931 - accuracy: 0.5035 - val_loss: 0.6933 - val_accuracy: 0.4947\n",
            "Epoch 15/20\n",
            "30/30 [==============================] - 2s 65ms/step - loss: 0.6931 - accuracy: 0.5035 - val_loss: 0.6933 - val_accuracy: 0.4947\n",
            "Epoch 16/20\n",
            "30/30 [==============================] - 1s 46ms/step - loss: 0.6931 - accuracy: 0.5035 - val_loss: 0.6933 - val_accuracy: 0.4947\n",
            "Epoch 17/20\n",
            "30/30 [==============================] - 2s 67ms/step - loss: 0.6931 - accuracy: 0.5035 - val_loss: 0.6933 - val_accuracy: 0.4947\n",
            "Epoch 18/20\n",
            "30/30 [==============================] - 1s 49ms/step - loss: 0.6931 - accuracy: 0.5035 - val_loss: 0.6933 - val_accuracy: 0.4947\n",
            "Epoch 19/20\n",
            "30/30 [==============================] - 2s 58ms/step - loss: 0.6931 - accuracy: 0.5035 - val_loss: 0.6933 - val_accuracy: 0.4947\n",
            "Epoch 20/20\n",
            "30/30 [==============================] - 2s 65ms/step - loss: 0.6931 - accuracy: 0.5035 - val_loss: 0.6933 - val_accuracy: 0.4947\n"
          ]
        }
      ]
    },
    {
      "cell_type": "code",
      "source": [
        "history_dict = history.history\n",
        "history_dict.keys()"
      ],
      "metadata": {
        "colab": {
          "base_uri": "https://localhost:8080/"
        },
        "id": "hmd2aVJA-RHZ",
        "outputId": "2dc90cda-a742-46bc-80f4-0bafabf83dba"
      },
      "execution_count": 18,
      "outputs": [
        {
          "output_type": "execute_result",
          "data": {
            "text/plain": [
              "dict_keys(['loss', 'accuracy', 'val_loss', 'val_accuracy'])"
            ]
          },
          "metadata": {},
          "execution_count": 18
        }
      ]
    },
    {
      "cell_type": "code",
      "source": [
        "import matplotlib.pyplot as plt\n",
        "\n",
        "loss_values = history_dict[\"loss\"]\n",
        "val_loss_values = history_dict[\"val_loss\"]\n",
        "epochs = range(1, len(loss_values) + 1)\n",
        "plt.plot(epochs, loss_values, \"bo\", label=\"Training loss\")\n",
        "plt.plot(epochs, val_loss_values, \"b\", label=\"Validation loss\")\n",
        "plt.title(\"Training and validation loss\")\n",
        "plt.xlabel(\"Epochs\")\n",
        "plt.ylabel(\"Loss\")\n",
        "plt.legend()\n",
        "plt.show()"
      ],
      "metadata": {
        "colab": {
          "base_uri": "https://localhost:8080/",
          "height": 295
        },
        "id": "db8FMxaS-mJQ",
        "outputId": "c9430025-8b2c-492e-b1a3-a4211b87a8f4"
      },
      "execution_count": 19,
      "outputs": [
        {
          "output_type": "display_data",
          "data": {
            "text/plain": [
              "<Figure size 432x288 with 1 Axes>"
            ],
            "image/png": "[encoded data removed]"
          },
          "metadata": {
            "needs_background": "light"
          }
        }
      ]
    },
    {
      "cell_type": "code",
      "source": [
        "plt.clf()\n",
        "acc = history_dict[\"accuracy\"]\n",
        "val_acc = history_dict[\"val_accuracy\"]\n",
        "plt.plot(epochs, acc, \"bo\", label=\"Training acc\")\n",
        "plt.plot(epochs, val_acc, \"b\", label=\"Validation acc\")\n",
        "plt.title(\"Training and validation accuracy\")\n",
        "plt.xlabel(\"Epochs\")\n",
        "plt.ylabel(\"Accuracy\")\n",
        "plt.legend()\n",
        "plt.show()"
      ],
      "metadata": {
        "colab": {
          "base_uri": "https://localhost:8080/",
          "height": 295
        },
        "id": "zwqqzHUh_NGQ",
        "outputId": "078cbd40-ef49-43f5-bbf0-3c917ac97880"
      },
      "execution_count": 20,
      "outputs": [
        {
          "output_type": "display_data",
          "data": {
            "text/plain": [
              "<Figure size 432x288 with 1 Axes>"
            ],
            "image/png": "[encoded data removed]"
          },
          "metadata": {
            "needs_background": "light"
          }
        }
      ]
    },
    {
      "cell_type": "markdown",
      "source": [
        "## Retrain from scratch"
      ],
      "metadata": {
        "id": "6uxLiAZoBL2W"
      }
    },
    {
      "cell_type": "code",
      "source": [
        "model = keras.Sequential([\n",
        "  layers.Dense(16, activation=\"relu\"),\n",
        "  layers.Dense(16, activation=\"relu\"),\n",
        "  layers.Dense(1, activation=\"sigmoid\")\n",
        "])\n",
        "\n",
        "model.compile(\n",
        "  optimizer=\"rmsprop\",\n",
        "  loss=\"binary_crossentropy\",\n",
        "  metrics=[\"accuracy\"]\n",
        ")\n",
        "\n",
        "model.fit(x_train, y_train, epochs=4, batch_size=512)\n",
        "\n",
        "results = model.evaluate(x_test, y_test)\n",
        "\n",
        "results"
      ],
      "metadata": {
        "colab": {
          "base_uri": "https://localhost:8080/"
        },
        "id": "5w23yxhMBdgV",
        "outputId": "2793cafd-74e6-40be-81e3-d8c3d6be32d9"
      },
      "execution_count": 23,
      "outputs": [
        {
          "output_type": "stream",
          "name": "stdout",
          "text": [
            "Epoch 1/4\n",
            "49/49 [==============================] - 2s 35ms/step - loss: 0.6932 - accuracy: 0.5002\n",
            "Epoch 2/4\n",
            "49/49 [==============================] - 1s 29ms/step - loss: 0.6932 - accuracy: 0.4939\n",
            "Epoch 3/4\n",
            "49/49 [==============================] - 1s 29ms/step - loss: 0.6932 - accuracy: 0.4949\n",
            "Epoch 4/4\n",
            "49/49 [==============================] - 1s 29ms/step - loss: 0.6932 - accuracy: 0.5000\n",
            "782/782 [==============================] - 2s 3ms/step - loss: 0.6931 - accuracy: 0.5000\n"
          ]
        },
        {
          "output_type": "execute_result",
          "data": {
            "text/plain": [
              "[0.6931484341621399, 0.5]"
            ]
          },
          "metadata": {},
          "execution_count": 23
        }
      ]
    },
    {
      "cell_type": "code",
      "source": [
        "model.predict(x_test)"
      ],
      "metadata": {
        "colab": {
          "base_uri": "https://localhost:8080/"
        },
        "id": "LKHYjcqeB9oK",
        "outputId": "fd161914-4426-4621-d9c4-fdcf3611a798"
      },
      "execution_count": 24,
      "outputs": [
        {
          "output_type": "execute_result",
          "data": {
            "text/plain": [
              "array([[0.4919772 ],\n",
              "       [0.49933136],\n",
              "       [0.49933136],\n",
              "       ...,\n",
              "       [0.49933136],\n",
              "       [0.49933136],\n",
              "       [0.49933136]], dtype=float32)"
            ]
          },
          "metadata": {},
          "execution_count": 24
        }
      ]
    },
    {
      "cell_type": "markdown",
      "source": [
        "## Reuters data"
      ],
      "metadata": {
        "id": "c_ws_bcECIzK"
      }
    },
    {
      "cell_type": "code",
      "source": [
        "from tensorflow.keras.datasets import reuters\n",
        "\n",
        "(train_data, train_labels), (test_data, test_labels) = reuters.load_data(num_words=10_000)"
      ],
      "metadata": {
        "id": "fybw1Tf4CVnL"
      },
      "execution_count": 58,
      "outputs": []
    },
    {
      "cell_type": "code",
      "source": [
        "len(train_data)"
      ],
      "metadata": {
        "colab": {
          "base_uri": "https://localhost:8080/"
        },
        "id": "x_fOxSHNCgJF",
        "outputId": "6f673f91-58d6-4d6c-92e1-6f92eb64ff5b"
      },
      "execution_count": 26,
      "outputs": [
        {
          "output_type": "execute_result",
          "data": {
            "text/plain": [
              "8982"
            ]
          },
          "metadata": {},
          "execution_count": 26
        }
      ]
    },
    {
      "cell_type": "code",
      "source": [
        "len(test_data)"
      ],
      "metadata": {
        "colab": {
          "base_uri": "https://localhost:8080/"
        },
        "id": "MPLmFqDKDEDs",
        "outputId": "c12cc47e-10eb-4815-cad5-9272d73438a8"
      },
      "execution_count": 27,
      "outputs": [
        {
          "output_type": "execute_result",
          "data": {
            "text/plain": [
              "2246"
            ]
          },
          "metadata": {},
          "execution_count": 27
        }
      ]
    },
    {
      "cell_type": "code",
      "source": [
        "train_data[10]"
      ],
      "metadata": {
        "colab": {
          "base_uri": "https://localhost:8080/"
        },
        "id": "t2PRXVkXDF53",
        "outputId": "d682fad2-8e36-4fe7-e9c0-b0bd5c4542d8"
      },
      "execution_count": 28,
      "outputs": [
        {
          "output_type": "execute_result",
          "data": {
            "text/plain": [
              "[1,\n",
              " 245,\n",
              " 273,\n",
              " 207,\n",
              " 156,\n",
              " 53,\n",
              " 74,\n",
              " 160,\n",
              " 26,\n",
              " 14,\n",
              " 46,\n",
              " 296,\n",
              " 26,\n",
              " 39,\n",
              " 74,\n",
              " 2979,\n",
              " 3554,\n",
              " 14,\n",
              " 46,\n",
              " 4689,\n",
              " 4329,\n",
              " 86,\n",
              " 61,\n",
              " 3499,\n",
              " 4795,\n",
              " 14,\n",
              " 61,\n",
              " 451,\n",
              " 4329,\n",
              " 17,\n",
              " 12]"
            ]
          },
          "metadata": {},
          "execution_count": 28
        }
      ]
    },
    {
      "cell_type": "markdown",
      "source": [
        "## Decode back to text"
      ],
      "metadata": {
        "id": "4TPsb9hyDIGo"
      }
    },
    {
      "cell_type": "code",
      "source": [
        "word_index = reuters.get_word_index()"
      ],
      "metadata": {
        "id": "w8yROrQLDP6Y"
      },
      "execution_count": 30,
      "outputs": []
    },
    {
      "cell_type": "code",
      "source": [
        "reverse_word_index = dict([(value, key) for (key, value) in word_index.items()])\n",
        "decoded_newswire = \" \".join([reverse_word_index.get(i - 3, \"?\") for i in train_data[0]])"
      ],
      "metadata": {
        "id": "W3NAdf5XDUkN"
      },
      "execution_count": 34,
      "outputs": []
    },
    {
      "cell_type": "code",
      "source": [
        "train_labels[10]"
      ],
      "metadata": {
        "colab": {
          "base_uri": "https://localhost:8080/"
        },
        "id": "qYUOhsW1DrFx",
        "outputId": "a7ae38ff-3b5a-45c4-d3fd-1f216f751daa"
      },
      "execution_count": 36,
      "outputs": [
        {
          "output_type": "execute_result",
          "data": {
            "text/plain": [
              "3"
            ]
          },
          "metadata": {},
          "execution_count": 36
        }
      ]
    },
    {
      "cell_type": "markdown",
      "source": [
        "## Prepare data"
      ],
      "metadata": {
        "id": "IToDUOLiD5tA"
      }
    },
    {
      "cell_type": "code",
      "source": [
        "def vectorize_sequences(sequences, dimension=10000):\n",
        "    results = np.zeros((len(sequences), dimension))\n",
        "    for i, sequence in enumerate(sequences):\n",
        "        for j in sequence:\n",
        "            results[i, j] = 1.\n",
        "    return results"
      ],
      "metadata": {
        "id": "eTWRqgOGJpb2"
      },
      "execution_count": 59,
      "outputs": []
    },
    {
      "cell_type": "code",
      "source": [
        "x_train = vectorize_sequences(train_data)\n",
        "x_test = vectorize_sequences(test_data)"
      ],
      "metadata": {
        "id": "1InPaS18ECSU"
      },
      "execution_count": 62,
      "outputs": []
    },
    {
      "cell_type": "code",
      "source": [
        "len(x_test)"
      ],
      "metadata": {
        "colab": {
          "base_uri": "https://localhost:8080/"
        },
        "id": "Zd25yHR0JxiA",
        "outputId": "de7ff1d1-580c-47b4-e9f7-27c41ed39239"
      },
      "execution_count": 63,
      "outputs": [
        {
          "output_type": "execute_result",
          "data": {
            "text/plain": [
              "2246"
            ]
          },
          "metadata": {},
          "execution_count": 63
        }
      ]
    },
    {
      "cell_type": "code",
      "source": [
        "def to_one_hot(labels, dimension=46):\n",
        "  results = np.zeros((len(labels), dimension))\n",
        "  for i, label in enumerate(labels):\n",
        "    results[i, label] = 1.\n",
        "  return results\n",
        "\n",
        "y_train = to_one_hot(train_labels)\n",
        "y_test = to_one_hot(test_labels)"
      ],
      "metadata": {
        "id": "xGNoVltQEHqk"
      },
      "execution_count": 64,
      "outputs": []
    },
    {
      "cell_type": "code",
      "source": [
        "from tensorflow.keras.utils import to_categorical\n",
        "\n",
        "y_train = to_categorical(train_labels)\n",
        "y_test = to_categorical(test_labels)"
      ],
      "metadata": {
        "id": "_8qIrfbdExix"
      },
      "execution_count": 65,
      "outputs": []
    },
    {
      "cell_type": "markdown",
      "source": [
        "## Build model"
      ],
      "metadata": {
        "id": "3YfV-BBuFA7r"
      }
    },
    {
      "cell_type": "code",
      "source": [
        "model = keras.Sequential([\n",
        "  layers.Dense(64, activation=\"relu\"),\n",
        "  layers.Dense(64, activation=\"relu\"),\n",
        "  layers.Dense(46, activation=\"softmax\")\n",
        "])"
      ],
      "metadata": {
        "id": "EULz8jSuFFwF"
      },
      "execution_count": 66,
      "outputs": []
    },
    {
      "cell_type": "code",
      "source": [
        "model.compile(optimizer=\"rmsprop\",\n",
        "              loss=\"categorical_crossentropy\",\n",
        "              metrics=[\"accuracy\"])"
      ],
      "metadata": {
        "id": "r0HBIe4WFwLH"
      },
      "execution_count": 67,
      "outputs": []
    },
    {
      "cell_type": "markdown",
      "source": [
        "## Validation data"
      ],
      "metadata": {
        "id": "VHvjSpUMF52y"
      }
    },
    {
      "cell_type": "code",
      "source": [
        "x_val = x_train[:1000]\n",
        "partial_x_train = x_train[1000:]\n",
        "y_val = y_train[:1000]\n",
        "partial_y_train = y_train[1000:]"
      ],
      "metadata": {
        "id": "Djm-8AjpGHyn"
      },
      "execution_count": 68,
      "outputs": []
    },
    {
      "cell_type": "markdown",
      "source": [
        "## Train"
      ],
      "metadata": {
        "id": "4p8-uPhQGV1i"
      }
    },
    {
      "cell_type": "code",
      "source": [
        "history = model.fit(\n",
        "  partial_x_train,\n",
        "  partial_y_train,\n",
        "  epochs=20,\n",
        "  batch_size=512,\n",
        "  validation_data=(x_val, y_val)\n",
        ")"
      ],
      "metadata": {
        "colab": {
          "base_uri": "https://localhost:8080/"
        },
        "id": "DUrtQ_WXGXPM",
        "outputId": "42dc1f9d-2a5e-446b-a1bf-373773beefe5"
      },
      "execution_count": 69,
      "outputs": [
        {
          "output_type": "stream",
          "name": "stdout",
          "text": [
            "Epoch 1/20\n",
            "16/16 [==============================] - 2s 84ms/step - loss: 2.5925 - accuracy: 0.5322 - val_loss: 1.7318 - val_accuracy: 0.6250\n",
            "Epoch 2/20\n",
            "16/16 [==============================] - 1s 49ms/step - loss: 1.4247 - accuracy: 0.6997 - val_loss: 1.3072 - val_accuracy: 0.7130\n",
            "Epoch 3/20\n",
            "16/16 [==============================] - 1s 50ms/step - loss: 1.0581 - accuracy: 0.7672 - val_loss: 1.1317 - val_accuracy: 0.7440\n",
            "Epoch 4/20\n",
            "16/16 [==============================] - 1s 57ms/step - loss: 0.8366 - accuracy: 0.8195 - val_loss: 1.0268 - val_accuracy: 0.7720\n",
            "Epoch 5/20\n",
            "16/16 [==============================] - 1s 56ms/step - loss: 0.6602 - accuracy: 0.8619 - val_loss: 0.9708 - val_accuracy: 0.7860\n",
            "Epoch 6/20\n",
            "16/16 [==============================] - 1s 53ms/step - loss: 0.5314 - accuracy: 0.8867 - val_loss: 0.9045 - val_accuracy: 0.8050\n",
            "Epoch 7/20\n",
            "16/16 [==============================] - 1s 63ms/step - loss: 0.4269 - accuracy: 0.9100 - val_loss: 0.8948 - val_accuracy: 0.8050\n",
            "Epoch 8/20\n",
            "16/16 [==============================] - 1s 61ms/step - loss: 0.3504 - accuracy: 0.9253 - val_loss: 0.8954 - val_accuracy: 0.8130\n",
            "Epoch 9/20\n",
            "16/16 [==============================] - 1s 50ms/step - loss: 0.2882 - accuracy: 0.9351 - val_loss: 0.8836 - val_accuracy: 0.8210\n",
            "Epoch 10/20\n",
            "16/16 [==============================] - 1s 51ms/step - loss: 0.2427 - accuracy: 0.9432 - val_loss: 0.8775 - val_accuracy: 0.8280\n",
            "Epoch 11/20\n",
            "16/16 [==============================] - 1s 58ms/step - loss: 0.2063 - accuracy: 0.9501 - val_loss: 1.0533 - val_accuracy: 0.7670\n",
            "Epoch 12/20\n",
            "16/16 [==============================] - 1s 63ms/step - loss: 0.1834 - accuracy: 0.9519 - val_loss: 0.8980 - val_accuracy: 0.8170\n",
            "Epoch 13/20\n",
            "16/16 [==============================] - 1s 64ms/step - loss: 0.1630 - accuracy: 0.9550 - val_loss: 0.9783 - val_accuracy: 0.8060\n",
            "Epoch 14/20\n",
            "16/16 [==============================] - 1s 63ms/step - loss: 0.1459 - accuracy: 0.9553 - val_loss: 0.9331 - val_accuracy: 0.8160\n",
            "Epoch 15/20\n",
            "16/16 [==============================] - 1s 63ms/step - loss: 0.1401 - accuracy: 0.9570 - val_loss: 0.9703 - val_accuracy: 0.8170\n",
            "Epoch 16/20\n",
            "16/16 [==============================] - 1s 62ms/step - loss: 0.1268 - accuracy: 0.9568 - val_loss: 1.0563 - val_accuracy: 0.7970\n",
            "Epoch 17/20\n",
            "16/16 [==============================] - 1s 63ms/step - loss: 0.1206 - accuracy: 0.9583 - val_loss: 0.9896 - val_accuracy: 0.8100\n",
            "Epoch 18/20\n",
            "16/16 [==============================] - 1s 63ms/step - loss: 0.1157 - accuracy: 0.9578 - val_loss: 1.0639 - val_accuracy: 0.7980\n",
            "Epoch 19/20\n",
            "16/16 [==============================] - 1s 62ms/step - loss: 0.1187 - accuracy: 0.9564 - val_loss: 1.0484 - val_accuracy: 0.8050\n",
            "Epoch 20/20\n",
            "16/16 [==============================] - 1s 61ms/step - loss: 0.1118 - accuracy: 0.9574 - val_loss: 1.0899 - val_accuracy: 0.8040\n"
          ]
        }
      ]
    },
    {
      "cell_type": "code",
      "source": [
        "loss = history.history[\"loss\"]\n",
        "val_loss = history.history[\"val_loss\"]\n",
        "epochs = range(1, len(loss) + 1)\n",
        "plt.plot(epochs, loss, \"bo\", label=\"Training loss\")\n",
        "plt.plot(epochs, val_loss, \"b\", label=\"Validation loss\")\n",
        "plt.title(\"Training and validation loss\")\n",
        "plt.xlabel(\"Epochs\")\n",
        "plt.ylabel(\"Loss\")\n",
        "plt.legend()\n",
        "plt.show()"
      ],
      "metadata": {
        "colab": {
          "base_uri": "https://localhost:8080/",
          "height": 295
        },
        "id": "GlMr1uJeHLHq",
        "outputId": "ee17c0ea-3eaf-4dd7-a1e3-f7f1387c4332"
      },
      "execution_count": 70,
      "outputs": [
        {
          "output_type": "display_data",
          "data": {
            "text/plain": [
              "<Figure size 432x288 with 1 Axes>"
            ],
            "image/png": "[encoded data removed]"
          },
          "metadata": {
            "needs_background": "light"
          }
        }
      ]
    },
    {
      "cell_type": "code",
      "source": [
        "plt.clf()\n",
        "acc = history.history[\"accuracy\"]\n",
        "val_acc = history.history[\"val_accuracy\"]\n",
        "plt.plot(epochs, acc, \"bo\", label=\"Training accuracy\")\n",
        "plt.plot(epochs, val_acc, \"b\", label=\"Validation accuracy\")\n",
        "plt.title(\"Training and validation accuracy\")\n",
        "plt.xlabel(\"Epochs\")\n",
        "plt.ylabel(\"Accuracy\")\n",
        "plt.legend()\n",
        "plt.show()"
      ],
      "metadata": {
        "colab": {
          "base_uri": "https://localhost:8080/",
          "height": 295
        },
        "id": "Yi-wpTEPHT9g",
        "outputId": "87a1025a-068a-4da5-ac5e-e70b677af372"
      },
      "execution_count": 71,
      "outputs": [
        {
          "output_type": "display_data",
          "data": {
            "text/plain": [
              "<Figure size 432x288 with 1 Axes>"
            ],
            "image/png": "[encoded data removed]"
          },
          "metadata": {
            "needs_background": "light"
          }
        }
      ]
    },
    {
      "cell_type": "code",
      "source": [
        "model = keras.Sequential([\n",
        "  layers.Dense(64, activation=\"relu\"),\n",
        "  layers.Dense(64, activation=\"relu\"),\n",
        "  layers.Dense(46, activation=\"softmax\")                \n",
        "])\n",
        "\n",
        "model.compile(\n",
        "  optimizer=\"rmsprop\",\n",
        "  loss=\"categorical_crossentropy\",\n",
        "  metrics=[\"accuracy\"]  \n",
        ")\n",
        "\n",
        "model.fit(\n",
        "    x_train,\n",
        "    y_train,\n",
        "    epochs=9,\n",
        "    batch_size=512\n",
        ")\n",
        "\n",
        "results = model.evaluate(x_test, y_test)\n",
        "\n",
        "results"
      ],
      "metadata": {
        "colab": {
          "base_uri": "https://localhost:8080/"
        },
        "id": "GQ_TrVK7HYkQ",
        "outputId": "5f7fdfa0-8ebf-4f9f-fc6f-fdd4f3bd7091"
      },
      "execution_count": 72,
      "outputs": [
        {
          "output_type": "stream",
          "name": "stdout",
          "text": [
            "Epoch 1/9\n",
            "18/18 [==============================] - 2s 58ms/step - loss: 2.4418 - accuracy: 0.5424\n",
            "Epoch 2/9\n",
            "18/18 [==============================] - 1s 58ms/step - loss: 1.3165 - accuracy: 0.7173\n",
            "Epoch 3/9\n",
            "18/18 [==============================] - 1s 52ms/step - loss: 0.9893 - accuracy: 0.7898\n",
            "Epoch 4/9\n",
            "18/18 [==============================] - 1s 47ms/step - loss: 0.7702 - accuracy: 0.8362\n",
            "Epoch 5/9\n",
            "18/18 [==============================] - 1s 45ms/step - loss: 0.6086 - accuracy: 0.8716\n",
            "Epoch 6/9\n",
            "18/18 [==============================] - 1s 45ms/step - loss: 0.4823 - accuracy: 0.9009\n",
            "Epoch 7/9\n",
            "18/18 [==============================] - 1s 47ms/step - loss: 0.3824 - accuracy: 0.9215\n",
            "Epoch 8/9\n",
            "18/18 [==============================] - 1s 53ms/step - loss: 0.3157 - accuracy: 0.9315\n",
            "Epoch 9/9\n",
            "18/18 [==============================] - 1s 56ms/step - loss: 0.2586 - accuracy: 0.9430\n",
            "71/71 [==============================] - 0s 4ms/step - loss: 0.9699 - accuracy: 0.7930\n"
          ]
        },
        {
          "output_type": "execute_result",
          "data": {
            "text/plain": [
              "[0.9699109196662903, 0.792965292930603]"
            ]
          },
          "metadata": {},
          "execution_count": 72
        }
      ]
    },
    {
      "cell_type": "code",
      "source": [
        "model.predict(x_test)"
      ],
      "metadata": {
        "colab": {
          "base_uri": "https://localhost:8080/"
        },
        "id": "qkYkyLywJZ_r",
        "outputId": "785778c5-eff1-4848-ca34-32f134124b24"
      },
      "execution_count": 73,
      "outputs": [
        {
          "output_type": "execute_result",
          "data": {
            "text/plain": [
              "array([[2.1080661e-05, 1.8647635e-05, 9.8692335e-06, ..., 1.6372659e-06,\n",
              "        1.1967247e-06, 1.4851809e-06],\n",
              "       [2.1691574e-03, 1.3551585e-02, 9.7001367e-04, ..., 3.2708253e-05,\n",
              "        1.4164816e-05, 9.8667660e-05],\n",
              "       [2.2678949e-02, 6.3109410e-01, 2.4598215e-03, ..., 2.5705036e-03,\n",
              "        1.0003210e-03, 4.7725011e-03],\n",
              "       ...,\n",
              "       [2.7197384e-05, 4.2438605e-05, 6.9397620e-06, ..., 1.8661289e-06,\n",
              "        2.2192619e-06, 4.3203813e-06],\n",
              "       [3.3168280e-03, 1.4084432e-02, 2.4008779e-03, ..., 1.1718069e-04,\n",
              "        9.0349920e-04, 6.7456724e-04],\n",
              "       [2.5506429e-03, 2.6180807e-01, 6.9815353e-03, ..., 1.8790463e-03,\n",
              "        3.3549650e-04, 5.3822796e-04]], dtype=float32)"
            ]
          },
          "metadata": {},
          "execution_count": 73
        }
      ]
    },
    {
      "cell_type": "code",
      "source": [
        "import copy\n",
        "\n",
        "test_labels_copy = copy.copy(test_labels)\n",
        "np.random.shuffle(test_labels_copy)\n",
        "hits_array = np.array(test_labels) == np.array(test_labels_copy)\n",
        "hits_array.mean()"
      ],
      "metadata": {
        "colab": {
          "base_uri": "https://localhost:8080/"
        },
        "id": "boSMviVOLNeZ",
        "outputId": "0147033d-1478-4fe3-f52d-9f3c502f0e9f"
      },
      "execution_count": 74,
      "outputs": [
        {
          "output_type": "execute_result",
          "data": {
            "text/plain": [
              "0.19011576135351738"
            ]
          },
          "metadata": {},
          "execution_count": 74
        }
      ]
    },
    {
      "cell_type": "markdown",
      "source": [
        "## Predictions"
      ],
      "metadata": {
        "id": "M23Zlv--P7G_"
      }
    },
    {
      "cell_type": "code",
      "source": [
        "predictions = model.predict(x_test)"
      ],
      "metadata": {
        "id": "6G7OOlTEP_bQ"
      },
      "execution_count": 75,
      "outputs": []
    },
    {
      "cell_type": "code",
      "source": [
        "predictions[0].shape"
      ],
      "metadata": {
        "colab": {
          "base_uri": "https://localhost:8080/"
        },
        "id": "1bw-fgIYQcN0",
        "outputId": "bea71947-4bf4-4c4d-957e-6b8cfd0f7b9a"
      },
      "execution_count": 76,
      "outputs": [
        {
          "output_type": "execute_result",
          "data": {
            "text/plain": [
              "(46,)"
            ]
          },
          "metadata": {},
          "execution_count": 76
        }
      ]
    },
    {
      "cell_type": "code",
      "source": [
        "np.sum(predictions[0])"
      ],
      "metadata": {
        "colab": {
          "base_uri": "https://localhost:8080/"
        },
        "id": "6K28iDaBQdbR",
        "outputId": "31dde927-d707-4c50-a3b9-43b97cc3a1c8"
      },
      "execution_count": 77,
      "outputs": [
        {
          "output_type": "execute_result",
          "data": {
            "text/plain": [
              "1.0"
            ]
          },
          "metadata": {},
          "execution_count": 77
        }
      ]
    },
    {
      "cell_type": "code",
      "source": [
        "np.argmax(predictions[0])"
      ],
      "metadata": {
        "colab": {
          "base_uri": "https://localhost:8080/"
        },
        "id": "_GIqRP32QgaK",
        "outputId": "7707fe17-8034-4df1-82ab-59257c767b85"
      },
      "execution_count": 78,
      "outputs": [
        {
          "output_type": "execute_result",
          "data": {
            "text/plain": [
              "3"
            ]
          },
          "metadata": {},
          "execution_count": 78
        }
      ]
    },
    {
      "cell_type": "code",
      "source": [
        "predictions[0][np.argmax(predictions[0])]"
      ],
      "metadata": {
        "colab": {
          "base_uri": "https://localhost:8080/"
        },
        "id": "iMDS5JoHQi1W",
        "outputId": "55db7931-6937-42fc-b679-6e1be482c8aa"
      },
      "execution_count": 80,
      "outputs": [
        {
          "output_type": "execute_result",
          "data": {
            "text/plain": [
              "0.8982377"
            ]
          },
          "metadata": {},
          "execution_count": 80
        }
      ]
    },
    {
      "cell_type": "markdown",
      "source": [
        "## Different way to handle labels and loss"
      ],
      "metadata": {
        "id": "Ukm86cDnQlHv"
      }
    },
    {
      "cell_type": "code",
      "source": [
        "y_train = np.array(train_labels)\n",
        "y_test = np.array(test_labels)"
      ],
      "metadata": {
        "id": "9OASlENUQx61"
      },
      "execution_count": 82,
      "outputs": []
    },
    {
      "cell_type": "code",
      "source": [
        "y_train"
      ],
      "metadata": {
        "colab": {
          "base_uri": "https://localhost:8080/"
        },
        "id": "c1zB3ABgQz2n",
        "outputId": "bfea2753-7f2d-48ca-b409-5c6e9158d6b9"
      },
      "execution_count": 83,
      "outputs": [
        {
          "output_type": "execute_result",
          "data": {
            "text/plain": [
              "array([ 3,  4,  3, ..., 25,  3, 25])"
            ]
          },
          "metadata": {},
          "execution_count": 83
        }
      ]
    },
    {
      "cell_type": "code",
      "source": [
        "y_test"
      ],
      "metadata": {
        "colab": {
          "base_uri": "https://localhost:8080/"
        },
        "id": "frjluu7DRJ2O",
        "outputId": "e8277df2-1dbc-408e-b7f2-c91638ede3ce"
      },
      "execution_count": 84,
      "outputs": [
        {
          "output_type": "execute_result",
          "data": {
            "text/plain": [
              "array([ 3, 10,  1, ...,  3,  3, 24])"
            ]
          },
          "metadata": {},
          "execution_count": 84
        }
      ]
    },
    {
      "cell_type": "code",
      "source": [
        "model.compile(\n",
        "    optimizer=\"rmsprop\",\n",
        "    loss=\"sparse_categorical_crossentropy\",\n",
        "    metrics=[\"accuracy\"]\n",
        ")"
      ],
      "metadata": {
        "id": "Qq3leNjgRKyy"
      },
      "execution_count": 85,
      "outputs": []
    },
    {
      "cell_type": "markdown",
      "source": [
        "## Importance of sufficiently large intermediate layers"
      ],
      "metadata": {
        "id": "rS9zQJuqRZyE"
      }
    },
    {
      "cell_type": "code",
      "source": [
        "model = keras.Sequential([\n",
        "  layers.Dense(64, activation=\"relu\"),\n",
        "  layers.Dense(4, activation=\"relu\"),\n",
        "  layers.Dense(46, activation=\"softmax\")\n",
        "])\n",
        "\n",
        "model.compile(\n",
        "  optimizer=\"rmsprop\",\n",
        "  loss=\"categorical_crossentropy\",\n",
        "  metrics=[\"accuracy\"]\n",
        ")\n",
        "\n",
        "model.fit(\n",
        "  partial_x_train,\n",
        "  partial_y_train,\n",
        "  epochs=20,\n",
        "  batch_size=128,\n",
        "  validation_data=(x_val, y_val)\n",
        ")"
      ],
      "metadata": {
        "colab": {
          "base_uri": "https://localhost:8080/"
        },
        "id": "cVKd-p7ARiXY",
        "outputId": "8d3d9e4e-b641-4569-a316-5431ffdf0634"
      },
      "execution_count": 89,
      "outputs": [
        {
          "output_type": "stream",
          "name": "stdout",
          "text": [
            "Epoch 1/20\n",
            "63/63 [==============================] - 2s 21ms/step - loss: 2.7691 - accuracy: 0.2329 - val_loss: 2.2071 - val_accuracy: 0.2620\n",
            "Epoch 2/20\n",
            "63/63 [==============================] - 1s 18ms/step - loss: 1.8306 - accuracy: 0.5029 - val_loss: 1.6110 - val_accuracy: 0.6090\n",
            "Epoch 3/20\n",
            "63/63 [==============================] - 1s 18ms/step - loss: 1.3663 - accuracy: 0.6434 - val_loss: 1.4087 - val_accuracy: 0.6410\n",
            "Epoch 4/20\n",
            "63/63 [==============================] - 1s 18ms/step - loss: 1.1518 - accuracy: 0.6904 - val_loss: 1.3192 - val_accuracy: 0.6900\n",
            "Epoch 5/20\n",
            "63/63 [==============================] - 1s 18ms/step - loss: 1.0120 - accuracy: 0.7338 - val_loss: 1.2861 - val_accuracy: 0.6960\n",
            "Epoch 6/20\n",
            "63/63 [==============================] - 1s 18ms/step - loss: 0.9091 - accuracy: 0.7587 - val_loss: 1.2693 - val_accuracy: 0.7090\n",
            "Epoch 7/20\n",
            "63/63 [==============================] - 1s 18ms/step - loss: 0.8252 - accuracy: 0.7898 - val_loss: 1.2770 - val_accuracy: 0.7120\n",
            "Epoch 8/20\n",
            "63/63 [==============================] - 1s 20ms/step - loss: 0.7549 - accuracy: 0.8157 - val_loss: 1.3177 - val_accuracy: 0.7120\n",
            "Epoch 9/20\n",
            "63/63 [==============================] - 1s 18ms/step - loss: 0.6940 - accuracy: 0.8310 - val_loss: 1.3202 - val_accuracy: 0.7190\n",
            "Epoch 10/20\n",
            "63/63 [==============================] - 1s 18ms/step - loss: 0.6420 - accuracy: 0.8450 - val_loss: 1.3627 - val_accuracy: 0.7130\n",
            "Epoch 11/20\n",
            "63/63 [==============================] - 1s 18ms/step - loss: 0.5983 - accuracy: 0.8508 - val_loss: 1.4208 - val_accuracy: 0.7150\n",
            "Epoch 12/20\n",
            "63/63 [==============================] - 1s 18ms/step - loss: 0.5588 - accuracy: 0.8555 - val_loss: 1.4603 - val_accuracy: 0.7190\n",
            "Epoch 13/20\n",
            "63/63 [==============================] - 1s 18ms/step - loss: 0.5293 - accuracy: 0.8599 - val_loss: 1.5118 - val_accuracy: 0.7210\n",
            "Epoch 14/20\n",
            "63/63 [==============================] - 1s 18ms/step - loss: 0.4990 - accuracy: 0.8661 - val_loss: 1.5635 - val_accuracy: 0.7180\n",
            "Epoch 15/20\n",
            "63/63 [==============================] - 1s 17ms/step - loss: 0.4749 - accuracy: 0.8700 - val_loss: 1.6252 - val_accuracy: 0.7240\n",
            "Epoch 16/20\n",
            "63/63 [==============================] - 1s 18ms/step - loss: 0.4541 - accuracy: 0.8723 - val_loss: 1.6635 - val_accuracy: 0.7240\n",
            "Epoch 17/20\n",
            "63/63 [==============================] - 1s 19ms/step - loss: 0.4356 - accuracy: 0.8755 - val_loss: 1.7319 - val_accuracy: 0.7160\n",
            "Epoch 18/20\n",
            "63/63 [==============================] - 1s 18ms/step - loss: 0.4168 - accuracy: 0.8789 - val_loss: 1.8060 - val_accuracy: 0.7180\n",
            "Epoch 19/20\n",
            "63/63 [==============================] - 1s 18ms/step - loss: 0.4010 - accuracy: 0.8816 - val_loss: 1.8542 - val_accuracy: 0.7260\n",
            "Epoch 20/20\n",
            "63/63 [==============================] - 1s 18ms/step - loss: 0.3861 - accuracy: 0.8837 - val_loss: 1.8873 - val_accuracy: 0.7270\n"
          ]
        },
        {
          "output_type": "execute_result",
          "data": {
            "text/plain": [
              "<keras.callbacks.History at 0x7fdbada3c750>"
            ]
          },
          "metadata": {},
          "execution_count": 89
        }
      ]
    },
    {
      "cell_type": "code",
      "source": [
        ""
      ],
      "metadata": {
        "id": "w1I4bfipR7hc"
      },
      "execution_count": 90,
      "outputs": []
    },
    {
      "cell_type": "markdown",
      "source": [
        "## Predciting housing prices: a regression example"
      ],
      "metadata": {
        "id": "WBPhLFElSZXm"
      }
    },
    {
      "cell_type": "code",
      "source": [
        "from tensorflow.keras.datasets import boston_housing\n",
        "\n",
        "(train_data, train_targets), (test_data, test_targets) = boston_housing.load_data()"
      ],
      "metadata": {
        "colab": {
          "base_uri": "https://localhost:8080/"
        },
        "id": "SNiRINJzYZCr",
        "outputId": "8c6b2d7d-4719-4f91-d56e-5087d99c5185"
      },
      "execution_count": 92,
      "outputs": [
        {
          "output_type": "stream",
          "name": "stdout",
          "text": [
            "Downloading data from https://storage.googleapis.com/tensorflow/tf-keras-datasets/boston_housing.npz\n",
            "57344/57026 [==============================] - 0s 0us/step\n",
            "65536/57026 [==================================] - 0s 0us/step\n"
          ]
        }
      ]
    },
    {
      "cell_type": "code",
      "source": [
        "train_data.shape"
      ],
      "metadata": {
        "colab": {
          "base_uri": "https://localhost:8080/"
        },
        "id": "zfp-jFkfZJbu",
        "outputId": "48fc88cd-9263-4499-c23d-ef7078891669"
      },
      "execution_count": 93,
      "outputs": [
        {
          "output_type": "execute_result",
          "data": {
            "text/plain": [
              "(404, 13)"
            ]
          },
          "metadata": {},
          "execution_count": 93
        }
      ]
    },
    {
      "cell_type": "code",
      "source": [
        "train_targets.shape"
      ],
      "metadata": {
        "colab": {
          "base_uri": "https://localhost:8080/"
        },
        "id": "dbP3lCAgcGf3",
        "outputId": "993eb137-6c05-45d7-e472-3b0603013493"
      },
      "execution_count": 95,
      "outputs": [
        {
          "output_type": "execute_result",
          "data": {
            "text/plain": [
              "(404,)"
            ]
          },
          "metadata": {},
          "execution_count": 95
        }
      ]
    },
    {
      "cell_type": "markdown",
      "source": [
        "## Prepare data"
      ],
      "metadata": {
        "id": "JvwlCaTScHo6"
      }
    },
    {
      "cell_type": "code",
      "source": [
        "mean = train_data.mean(axis=0)\n",
        "mean"
      ],
      "metadata": {
        "colab": {
          "base_uri": "https://localhost:8080/"
        },
        "id": "ZWP2jPsUcNSg",
        "outputId": "6a6f527a-c75a-405d-e1c8-6103600f8fd7"
      },
      "execution_count": 96,
      "outputs": [
        {
          "output_type": "execute_result",
          "data": {
            "text/plain": [
              "array([3.74511057e+00, 1.14801980e+01, 1.11044307e+01, 6.18811881e-02,\n",
              "       5.57355941e-01, 6.26708168e+00, 6.90106436e+01, 3.74027079e+00,\n",
              "       9.44059406e+00, 4.05898515e+02, 1.84759901e+01, 3.54783168e+02,\n",
              "       1.27408168e+01])"
            ]
          },
          "metadata": {},
          "execution_count": 96
        }
      ]
    },
    {
      "cell_type": "code",
      "source": [
        "train_data -= mean\n",
        "std = train_data.std(axis=0)\n",
        "train_data /= std\n",
        "test_data -= mean\n",
        "test_data /= std"
      ],
      "metadata": {
        "id": "X3lXQujmcQJF"
      },
      "execution_count": 97,
      "outputs": []
    },
    {
      "cell_type": "markdown",
      "source": [
        "## Build model"
      ],
      "metadata": {
        "id": "aB1hU_kKccod"
      }
    },
    {
      "cell_type": "code",
      "source": [
        "def build_model():\n",
        "  model = keras.Sequential([\n",
        "    layers.Dense(64, activation=\"relu\"),\n",
        "    layers.Dense(64, activation=\"relu\"),\n",
        "    layers.Dense(1)\n",
        "  ])\n",
        "\n",
        "  model.compile(optimizer=\"rmsprop\", loss=\"mse\", metrics=[\"mae\"])\n",
        "\n",
        "  return model"
      ],
      "metadata": {
        "id": "qO_xg4facgC-"
      },
      "execution_count": 98,
      "outputs": []
    },
    {
      "cell_type": "markdown",
      "source": [
        "## K-fold validation"
      ],
      "metadata": {
        "id": "-LxgFbRgdTl4"
      }
    },
    {
      "cell_type": "code",
      "source": [
        "k = 4\n",
        "num_val_samples = len(train_data) // k\n",
        "num_epochs = 100\n",
        "all_scores = []\n",
        "\n",
        "for i in range(k):\n",
        "  print(f\"Processing fold #{i}\")\n",
        "  val_data = train_data[i * num_val_samples: (i + 1) * num_val_samples]\n",
        "  val_targets = train_targets[i * num_val_samples: (i + 1) * num_val_samples]\n",
        "  partial_train_data = np.concatenate(\n",
        "      [train_data[:i*num_val_samples],\n",
        "       train_data[(i + 1)*num_val_samples:]],\n",
        "       axis=0)\n",
        "  partial_train_targets = np.concatenate(\n",
        "      [train_targets[:i * num_val_samples],\n",
        "       train_targets[(i + 1)*num_val_samples:]],\n",
        "  axis=0)\n",
        "\n",
        "  model = build_model()\n",
        "\n",
        "  model.fit(\n",
        "      partial_train_data,\n",
        "      partial_train_targets,\n",
        "      epochs=num_epochs,\n",
        "      batch_size=16,\n",
        "      verbose=0\n",
        "  )\n",
        "\n",
        "  val_mse, val_mae = model.evaluate(val_data, val_targets, verbose=0)\n",
        "\n",
        "  all_scores.append(val_mae)\n",
        "\n",
        "  all_scores"
      ],
      "metadata": {
        "colab": {
          "base_uri": "https://localhost:8080/"
        },
        "id": "p_gJ0PW_dXZd",
        "outputId": "5fc237c7-dba5-4a83-ac37-a28d04ef40c1"
      },
      "execution_count": 101,
      "outputs": [
        {
          "output_type": "stream",
          "name": "stdout",
          "text": [
            "Processing fold #0\n",
            "Processing fold #1\n",
            "Processing fold #2\n",
            "Processing fold #3\n"
          ]
        }
      ]
    },
    {
      "cell_type": "code",
      "source": [
        "all_scores"
      ],
      "metadata": {
        "colab": {
          "base_uri": "https://localhost:8080/"
        },
        "id": "fMR6a8JLff_Q",
        "outputId": "ee50ccb8-af47-4895-fbab-670b278923e5"
      },
      "execution_count": 102,
      "outputs": [
        {
          "output_type": "execute_result",
          "data": {
            "text/plain": [
              "[1.9589601755142212, 2.4448792934417725, 2.552687883377075, 2.2926807403564453]"
            ]
          },
          "metadata": {},
          "execution_count": 102
        }
      ]
    },
    {
      "cell_type": "code",
      "source": [
        "np.mean(all_scores)"
      ],
      "metadata": {
        "colab": {
          "base_uri": "https://localhost:8080/"
        },
        "id": "o6enJ1sUf8RO",
        "outputId": "9ced7685-9a83-4a76-c662-efd1e2fe7960"
      },
      "execution_count": 103,
      "outputs": [
        {
          "output_type": "execute_result",
          "data": {
            "text/plain": [
              "2.3123020231723785"
            ]
          },
          "metadata": {},
          "execution_count": 103
        }
      ]
    },
    {
      "cell_type": "markdown",
      "source": [
        "## Saving validation logs at each field"
      ],
      "metadata": {
        "id": "VkaMolPUhv_5"
      }
    },
    {
      "cell_type": "code",
      "source": [
        "num_epochs = 500\n",
        "all_mae_histories = []\n",
        "\n",
        "for i in range(k):\n",
        "    print(f\"Processing fold #{i}\")\n",
        "    val_data = train_data[i * num_val_samples: (i + 1) * num_val_samples]\n",
        "    val_targets = train_targets[i * num_val_samples: (i + 1) * num_val_samples]\n",
        "    partial_train_data = np.concatenate(\n",
        "        [train_data[:i * num_val_samples],\n",
        "         train_data[(i + 1) * num_val_samples:]],\n",
        "        axis=0)\n",
        "    partial_train_targets = np.concatenate(\n",
        "        [train_targets[:i * num_val_samples],\n",
        "         train_targets[(i + 1) * num_val_samples:]],\n",
        "        axis=0)\n",
        "    model = build_model()\n",
        "    history = model.fit(partial_train_data, partial_train_targets,\n",
        "                        validation_data=(val_data, val_targets),\n",
        "                        epochs=num_epochs, batch_size=16, verbose=0)\n",
        "    mae_history = history.history[\"val_mae\"]\n",
        "    all_mae_histories.append(mae_history)"
      ],
      "metadata": {
        "colab": {
          "base_uri": "https://localhost:8080/"
        },
        "id": "6kJQiZivh1Xr",
        "outputId": "fca94b95-3be3-4d55-ba85-3040696044af"
      },
      "execution_count": 104,
      "outputs": [
        {
          "output_type": "stream",
          "name": "stdout",
          "text": [
            "Processing fold #0\n",
            "Processing fold #1\n",
            "Processing fold #2\n",
            "Processing fold #3\n"
          ]
        }
      ]
    },
    {
      "cell_type": "code",
      "source": [
        "average_mae_history = [\n",
        "  np.mean([x[i] for x in all_mae_histories]) for i in range(num_epochs)\n",
        "]"
      ],
      "metadata": {
        "id": "mSATufg7iL79"
      },
      "execution_count": 108,
      "outputs": []
    },
    {
      "cell_type": "code",
      "source": [
        "plt.plot(range(1, len(average_mae_history) + 1), average_mae_history)\n",
        "plt.xlabel(\"Epochs\")\n",
        "plt.ylabel(\"Validation MAE\")\n",
        "plt.show()"
      ],
      "metadata": {
        "colab": {
          "base_uri": "https://localhost:8080/",
          "height": 281
        },
        "id": "roe4ixEUiybw",
        "outputId": "511322e4-fc46-4f52-f636-44ec06f13ec7"
      },
      "execution_count": 114,
      "outputs": [
        {
          "output_type": "display_data",
          "data": {
            "text/plain": [
              "<Figure size 432x288 with 1 Axes>"
            ],
            "image/png": "[encoded data removed]"
          },
          "metadata": {
            "needs_background": "light"
          }
        }
      ]
    },
    {
      "cell_type": "code",
      "source": [
        "truncated_mae_history = average_mae_history[10:]\n",
        "plt.plot(range(1, len(truncated_mae_history) + 1), truncated_mae_history)\n",
        "plt.xlabel(\"Epochs\")\n",
        "plt.ylabel(\"Validation MAE\")\n",
        "plt.show()"
      ],
      "metadata": {
        "colab": {
          "base_uri": "https://localhost:8080/",
          "height": 279
        },
        "id": "5s36QE_qjJ-D",
        "outputId": "e0db9e07-4bfa-412c-9086-27c8cd5049d3"
      },
      "execution_count": 115,
      "outputs": [
        {
          "output_type": "display_data",
          "data": {
            "text/plain": [
              "<Figure size 432x288 with 1 Axes>"
            ],
            "image/png": "[encoded data removed]"
          },
          "metadata": {
            "needs_background": "light"
          }
        }
      ]
    },
    {
      "cell_type": "markdown",
      "source": [
        "## Train the final model"
      ],
      "metadata": {
        "id": "c5qzS-yckW6X"
      }
    },
    {
      "cell_type": "code",
      "source": [
        "model = build_model()\n",
        "model.fit(\n",
        "    train_data,\n",
        "    train_targets,\n",
        "    epochs=130,\n",
        "    batch_size=16,\n",
        "    verbose=0\n",
        ")\n",
        "test_mse_score, test_mae_score = model.evaluate(test_data, test_targets)"
      ],
      "metadata": {
        "colab": {
          "base_uri": "https://localhost:8080/"
        },
        "id": "XPaFxiCekcsz",
        "outputId": "ed04c15a-aafc-4b47-e233-853b756373ac"
      },
      "execution_count": 117,
      "outputs": [
        {
          "output_type": "stream",
          "name": "stdout",
          "text": [
            "4/4 [==============================] - 0s 4ms/step - loss: 15.5082 - mae: 2.5650\n"
          ]
        }
      ]
    },
    {
      "cell_type": "code",
      "source": [
        "test_mae_score"
      ],
      "metadata": {
        "colab": {
          "base_uri": "https://localhost:8080/"
        },
        "id": "AWeWsY5iktMz",
        "outputId": "1b5e227a-469a-45e7-dbf9-411556b99689"
      },
      "execution_count": 118,
      "outputs": [
        {
          "output_type": "execute_result",
          "data": {
            "text/plain": [
              "2.5650408267974854"
            ]
          },
          "metadata": {},
          "execution_count": 118
        }
      ]
    },
    {
      "cell_type": "code",
      "source": [
        "predictions = model.predict(test_data)\n",
        "predictions[0]"
      ],
      "metadata": {
        "colab": {
          "base_uri": "https://localhost:8080/"
        },
        "id": "QzPBPuAzk53m",
        "outputId": "cdc5b5ba-c134-4f5d-b93b-9eb256e4a726"
      },
      "execution_count": 119,
      "outputs": [
        {
          "output_type": "execute_result",
          "data": {
            "text/plain": [
              "array([7.7298226], dtype=float32)"
            ]
          },
          "metadata": {},
          "execution_count": 119
        }
      ]
    },
    {
      "cell_type": "code",
      "source": [
        ""
      ],
      "metadata": {
        "id": "LJZ6ALekk9_p"
      },
      "execution_count": null,
      "outputs": []
    }
  ]
}