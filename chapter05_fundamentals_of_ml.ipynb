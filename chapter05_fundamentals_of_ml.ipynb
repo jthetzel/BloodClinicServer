{
  "nbformat": 4,
  "nbformat_minor": 0,
  "metadata": {
    "colab": {
      "name": "chapter05_fundamentals-of-ml.ipynb",
      "provenance": [],
      "authorship_tag": "ABX9TyPmgGb0i/i5lSpemEkzL/q+",
      "include_colab_link": true
    },
    "kernelspec": {
      "name": "python3",
      "display_name": "Python 3"
    },
    "language_info": {
      "name": "python"
    },
    "accelerator": "GPU"
  },
  "cells": [
    {
      "cell_type": "markdown",
      "metadata": {
        "id": "view-in-github",
        "colab_type": "text"
      },
      "source": [
        "<a href=\"https://colab.research.google.com/github/jthetzel/BloodClinicServer/blob/master/chapter05_fundamentals_of_ml.ipynb\" target=\"_parent\"><img src=\"https://colab.research.google.com/assets/colab-badge.svg\" alt=\"Open In Colab\"/></a>"
      ]
    },
    {
      "cell_type": "markdown",
      "source": [
        "## Under and over fitting"
      ],
      "metadata": {
        "id": "WwBaOHkclfmW"
      }
    },
    {
      "cell_type": "code",
      "source": [
        "from tensorflow.keras.datasets import mnist\n",
        "import numpy as np\n",
        "\n",
        "(train_images, train_labels), _ = mnist.load_data()\n",
        "train_images = train_images.reshape((60_000, 28*28))\n",
        "train_images = train_images.astype(\"float32\") / 255\n",
        "\n",
        "train_images_with_noise_channels = np.concatenate(\n",
        "    [train_images, np.random.random((len(train_images), 784))],\n",
        "    axis=1\n",
        ")\n",
        "\n",
        "train_images_with_zeros_channels = np.concatenate(\n",
        "    [train_images, np.zeros((len(train_images), 784))],\n",
        "    axis=1\n",
        ")"
      ],
      "metadata": {
        "colab": {
          "base_uri": "https://localhost:8080/"
        },
        "id": "ubjde3UZl71W",
        "outputId": "4fdb276e-d1b6-4f41-9497-71800536a4d3"
      },
      "execution_count": 1,
      "outputs": [
        {
          "output_type": "stream",
          "name": "stdout",
          "text": [
            "Downloading data from https://storage.googleapis.com/tensorflow/tf-keras-datasets/mnist.npz\n",
            "11493376/11490434 [==============================] - 0s 0us/step\n",
            "11501568/11490434 [==============================] - 0s 0us/step\n"
          ]
        }
      ]
    },
    {
      "cell_type": "code",
      "source": [
        "train_images.shape"
      ],
      "metadata": {
        "colab": {
          "base_uri": "https://localhost:8080/"
        },
        "id": "FnIV_n_0mXK3",
        "outputId": "ca3854fb-7bf3-468a-81ec-7ca037d0f75f"
      },
      "execution_count": 2,
      "outputs": [
        {
          "output_type": "execute_result",
          "data": {
            "text/plain": [
              "(60000, 784)"
            ]
          },
          "metadata": {},
          "execution_count": 2
        }
      ]
    },
    {
      "cell_type": "code",
      "source": [
        "train_labels.shape"
      ],
      "metadata": {
        "colab": {
          "base_uri": "https://localhost:8080/"
        },
        "id": "HZUmcKqpmYoe",
        "outputId": "4394996a-f8f0-4714-c6cb-3b102130a777"
      },
      "execution_count": 3,
      "outputs": [
        {
          "output_type": "execute_result",
          "data": {
            "text/plain": [
              "(60000,)"
            ]
          },
          "metadata": {},
          "execution_count": 3
        }
      ]
    },
    {
      "cell_type": "code",
      "source": [
        "from tensorflow import keras\n",
        "from tensorflow.keras import layers\n",
        "\n",
        "def get_model():\n",
        "  model = keras.Sequential([\n",
        "    layers.Dense(512, activation=\"relu\"),\n",
        "    layers.Dense(10, activation=\"softmax\")\n",
        "  ])\n",
        "  model.compile(\n",
        "      optimizer=\"rmsprop\",\n",
        "      loss=\"sparse_categorical_crossentropy\",\n",
        "      metrics=[\"accuracy\"]\n",
        "  )\n",
        "  \n",
        "  return model"
      ],
      "metadata": {
        "id": "RwMp0zYOm5XC"
      },
      "execution_count": 4,
      "outputs": []
    },
    {
      "cell_type": "code",
      "source": [
        "model = get_model()\n",
        "\n",
        "history_noise = model.fit(\n",
        "    train_images_with_noise_channels,\n",
        "    train_labels,\n",
        "    epochs=10,\n",
        "    batch_size=128,\n",
        "    validation_split=0.2\n",
        ")"
      ],
      "metadata": {
        "colab": {
          "base_uri": "https://localhost:8080/"
        },
        "id": "40Hkx5E-ncEo",
        "outputId": "1205ae0e-0012-4bb6-fa99-b3389a5fa917"
      },
      "execution_count": 5,
      "outputs": [
        {
          "output_type": "stream",
          "name": "stdout",
          "text": [
            "Epoch 1/10\n",
            "375/375 [==============================] - 4s 4ms/step - loss: 0.6294 - accuracy: 0.8104 - val_loss: 0.2957 - val_accuracy: 0.9094\n",
            "Epoch 2/10\n",
            "375/375 [==============================] - 1s 3ms/step - loss: 0.2474 - accuracy: 0.9230 - val_loss: 0.2027 - val_accuracy: 0.9367\n",
            "Epoch 3/10\n",
            "375/375 [==============================] - 1s 3ms/step - loss: 0.1630 - accuracy: 0.9495 - val_loss: 0.1519 - val_accuracy: 0.9552\n",
            "Epoch 4/10\n",
            "375/375 [==============================] - 1s 3ms/step - loss: 0.1138 - accuracy: 0.9649 - val_loss: 0.1352 - val_accuracy: 0.9603\n",
            "Epoch 5/10\n",
            "375/375 [==============================] - 1s 3ms/step - loss: 0.0819 - accuracy: 0.9739 - val_loss: 0.1210 - val_accuracy: 0.9672\n",
            "Epoch 6/10\n",
            "375/375 [==============================] - 1s 3ms/step - loss: 0.0624 - accuracy: 0.9798 - val_loss: 0.1299 - val_accuracy: 0.9630\n",
            "Epoch 7/10\n",
            "375/375 [==============================] - 1s 3ms/step - loss: 0.0466 - accuracy: 0.9854 - val_loss: 0.1749 - val_accuracy: 0.9498\n",
            "Epoch 8/10\n",
            "375/375 [==============================] - 1s 3ms/step - loss: 0.0333 - accuracy: 0.9892 - val_loss: 0.1340 - val_accuracy: 0.9657\n",
            "Epoch 9/10\n",
            "375/375 [==============================] - 1s 3ms/step - loss: 0.0265 - accuracy: 0.9914 - val_loss: 0.1342 - val_accuracy: 0.9670\n",
            "Epoch 10/10\n",
            "375/375 [==============================] - 1s 3ms/step - loss: 0.0208 - accuracy: 0.9934 - val_loss: 0.1363 - val_accuracy: 0.9680\n"
          ]
        }
      ]
    },
    {
      "cell_type": "code",
      "source": [
        "model = get_model()\n",
        "\n",
        "history_zeros = model.fit(\n",
        "    train_images_with_zeros_channels,\n",
        "    train_labels,\n",
        "    epochs=10,\n",
        "    batch_size=128,\n",
        "    validation_split=0.2\n",
        ")"
      ],
      "metadata": {
        "colab": {
          "base_uri": "https://localhost:8080/"
        },
        "id": "q-uknSFJnpKm",
        "outputId": "5df1aa93-60d5-4642-8841-7d2b7dc39ff7"
      },
      "execution_count": 6,
      "outputs": [
        {
          "output_type": "stream",
          "name": "stdout",
          "text": [
            "Epoch 1/10\n",
            "375/375 [==============================] - 2s 3ms/step - loss: 0.2889 - accuracy: 0.9162 - val_loss: 0.1461 - val_accuracy: 0.9587\n",
            "Epoch 2/10\n",
            "375/375 [==============================] - 1s 3ms/step - loss: 0.1196 - accuracy: 0.9648 - val_loss: 0.1069 - val_accuracy: 0.9679\n",
            "Epoch 3/10\n",
            "375/375 [==============================] - 1s 3ms/step - loss: 0.0786 - accuracy: 0.9763 - val_loss: 0.1083 - val_accuracy: 0.9686\n",
            "Epoch 4/10\n",
            "375/375 [==============================] - 1s 3ms/step - loss: 0.0564 - accuracy: 0.9830 - val_loss: 0.0851 - val_accuracy: 0.9768\n",
            "Epoch 5/10\n",
            "375/375 [==============================] - 1s 3ms/step - loss: 0.0429 - accuracy: 0.9873 - val_loss: 0.0821 - val_accuracy: 0.9749\n",
            "Epoch 6/10\n",
            "375/375 [==============================] - 1s 3ms/step - loss: 0.0314 - accuracy: 0.9908 - val_loss: 0.0818 - val_accuracy: 0.9772\n",
            "Epoch 7/10\n",
            "375/375 [==============================] - 1s 3ms/step - loss: 0.0237 - accuracy: 0.9933 - val_loss: 0.0868 - val_accuracy: 0.9769\n",
            "Epoch 8/10\n",
            "375/375 [==============================] - 1s 3ms/step - loss: 0.0187 - accuracy: 0.9948 - val_loss: 0.0768 - val_accuracy: 0.9796\n",
            "Epoch 9/10\n",
            "375/375 [==============================] - 1s 3ms/step - loss: 0.0134 - accuracy: 0.9964 - val_loss: 0.0878 - val_accuracy: 0.9783\n",
            "Epoch 10/10\n",
            "375/375 [==============================] - 1s 3ms/step - loss: 0.0106 - accuracy: 0.9970 - val_loss: 0.0911 - val_accuracy: 0.9791\n"
          ]
        }
      ]
    },
    {
      "cell_type": "markdown",
      "source": [
        "## Plotting accuracy"
      ],
      "metadata": {
        "id": "DzFW2iInn3ii"
      }
    },
    {
      "cell_type": "code",
      "source": [
        "import matplotlib.pyplot as plt\n",
        "\n",
        "val_acc_noise = history_noise.history[\"val_accuracy\"]\n",
        "val_acc_zeros = history_zeros.history[\"val_accuracy\"]\n",
        "\n",
        "epochs = range(1, 11)\n",
        "\n",
        "plt.plot(epochs, val_acc_noise, \"b-\", label=\"Validation acuracy with noise\")\n",
        "plt.plot(epochs, val_acc_zeros, \"b--\", label=\"Validation accuracy with zeros\")\n",
        "plt.title(\"Effect of noise channels on validation accuracy\")\n",
        "plt.xlabel(\"Epochs\")\n",
        "plt.ylabel(\"Accuracy\")\n",
        "plt.legend()"
      ],
      "metadata": {
        "colab": {
          "base_uri": "https://localhost:8080/",
          "height": 312
        },
        "id": "_se-HwJan6c8",
        "outputId": "4077ebe5-0770-49a4-dff1-87cd77417306"
      },
      "execution_count": 7,
      "outputs": [
        {
          "output_type": "execute_result",
          "data": {
            "text/plain": [
              "<matplotlib.legend.Legend at 0x7f2be0320710>"
            ]
          },
          "metadata": {},
          "execution_count": 7
        },
        {
          "output_type": "display_data",
          "data": {
            "text/plain": [
              "<Figure size 432x288 with 1 Axes>"
            ],
            "image/png": "[encoded data removed]"
          },
          "metadata": {
            "needs_background": "light"
          }
        }
      ]
    },
    {
      "cell_type": "markdown",
      "source": [
        "## Generalization in deep learning"
      ],
      "metadata": {
        "id": "0AuZwuPDons4"
      }
    },
    {
      "cell_type": "code",
      "source": [
        "(train_images, train_labels), _ = mnist.load_data()\n",
        "train_images = train_images.reshape((60_000, 28*28))\n",
        "train_images = train_images.astype(\"float32\") / 255\n",
        "\n",
        "random_train_labels = train_labels[:]\n",
        "np.random.shuffle(random_train_labels)\n",
        "\n",
        "model = keras.Sequential([\n",
        "  layers.Dense(512, activation=\"relu\"),\n",
        "  layers.Dense(10, activation=\"softmax\")\n",
        "])\n",
        "model.compile(\n",
        "    optimizer=\"rmsprop\",\n",
        "    loss=\"sparse_categorical_crossentropy\",\n",
        "    metrics=[\"accuracy\"]\n",
        ")\n",
        "model.fit(\n",
        "    train_images,\n",
        "    random_train_labels,\n",
        "    epochs=100,\n",
        "    batch_size=128,\n",
        "    validation_split=0.2\n",
        ")"
      ],
      "metadata": {
        "colab": {
          "base_uri": "https://localhost:8080/"
        },
        "id": "8UAW2OuRph_d",
        "outputId": "ed15c29a-1c33-4ed2-c08b-f96e9cda131f"
      },
      "execution_count": 8,
      "outputs": [
        {
          "output_type": "stream",
          "name": "stdout",
          "text": [
            "Epoch 1/100\n",
            "375/375 [==============================] - 2s 3ms/step - loss: 2.3176 - accuracy: 0.1034 - val_loss: 2.3095 - val_accuracy: 0.1019\n",
            "Epoch 2/100\n",
            "375/375 [==============================] - 1s 4ms/step - loss: 2.3001 - accuracy: 0.1142 - val_loss: 2.3112 - val_accuracy: 0.1077\n",
            "Epoch 3/100\n",
            "375/375 [==============================] - 1s 3ms/step - loss: 2.2923 - accuracy: 0.1258 - val_loss: 2.3211 - val_accuracy: 0.0990\n",
            "Epoch 4/100\n",
            "375/375 [==============================] - 1s 3ms/step - loss: 2.2790 - accuracy: 0.1406 - val_loss: 2.3265 - val_accuracy: 0.0993\n",
            "Epoch 5/100\n",
            "375/375 [==============================] - 1s 3ms/step - loss: 2.2615 - accuracy: 0.1521 - val_loss: 2.3375 - val_accuracy: 0.0999\n",
            "Epoch 6/100\n",
            "375/375 [==============================] - 1s 3ms/step - loss: 2.2410 - accuracy: 0.1671 - val_loss: 2.3571 - val_accuracy: 0.0980\n",
            "Epoch 7/100\n",
            "375/375 [==============================] - 1s 3ms/step - loss: 2.2172 - accuracy: 0.1811 - val_loss: 2.3651 - val_accuracy: 0.0978\n",
            "Epoch 8/100\n",
            "375/375 [==============================] - 1s 3ms/step - loss: 2.1905 - accuracy: 0.1970 - val_loss: 2.3838 - val_accuracy: 0.0979\n",
            "Epoch 9/100\n",
            "375/375 [==============================] - 1s 3ms/step - loss: 2.1589 - accuracy: 0.2146 - val_loss: 2.4114 - val_accuracy: 0.0977\n",
            "Epoch 10/100\n",
            "375/375 [==============================] - 1s 3ms/step - loss: 2.1277 - accuracy: 0.2284 - val_loss: 2.4230 - val_accuracy: 0.0968\n",
            "Epoch 11/100\n",
            "375/375 [==============================] - 1s 3ms/step - loss: 2.0942 - accuracy: 0.2480 - val_loss: 2.4592 - val_accuracy: 0.0981\n",
            "Epoch 12/100\n",
            "375/375 [==============================] - 1s 3ms/step - loss: 2.0608 - accuracy: 0.2635 - val_loss: 2.4787 - val_accuracy: 0.0973\n",
            "Epoch 13/100\n",
            "375/375 [==============================] - 1s 3ms/step - loss: 2.0248 - accuracy: 0.2790 - val_loss: 2.5043 - val_accuracy: 0.1005\n",
            "Epoch 14/100\n",
            "375/375 [==============================] - 1s 3ms/step - loss: 1.9923 - accuracy: 0.2921 - val_loss: 2.5443 - val_accuracy: 0.0994\n",
            "Epoch 15/100\n",
            "375/375 [==============================] - 1s 3ms/step - loss: 1.9566 - accuracy: 0.3077 - val_loss: 2.5697 - val_accuracy: 0.1025\n",
            "Epoch 16/100\n",
            "375/375 [==============================] - 1s 3ms/step - loss: 1.9222 - accuracy: 0.3199 - val_loss: 2.6034 - val_accuracy: 0.0984\n",
            "Epoch 17/100\n",
            "375/375 [==============================] - 1s 3ms/step - loss: 1.8874 - accuracy: 0.3371 - val_loss: 2.6288 - val_accuracy: 0.0968\n",
            "Epoch 18/100\n",
            "375/375 [==============================] - 1s 3ms/step - loss: 1.8516 - accuracy: 0.3514 - val_loss: 2.6679 - val_accuracy: 0.0995\n",
            "Epoch 19/100\n",
            "375/375 [==============================] - 1s 3ms/step - loss: 1.8202 - accuracy: 0.3638 - val_loss: 2.6997 - val_accuracy: 0.0987\n",
            "Epoch 20/100\n",
            "375/375 [==============================] - 1s 3ms/step - loss: 1.7872 - accuracy: 0.3752 - val_loss: 2.7553 - val_accuracy: 0.0998\n",
            "Epoch 21/100\n",
            "375/375 [==============================] - 1s 3ms/step - loss: 1.7551 - accuracy: 0.3898 - val_loss: 2.7672 - val_accuracy: 0.0976\n",
            "Epoch 22/100\n",
            "375/375 [==============================] - 1s 3ms/step - loss: 1.7228 - accuracy: 0.4004 - val_loss: 2.8224 - val_accuracy: 0.0976\n",
            "Epoch 23/100\n",
            "375/375 [==============================] - 1s 3ms/step - loss: 1.6950 - accuracy: 0.4105 - val_loss: 2.8447 - val_accuracy: 0.1000\n",
            "Epoch 24/100\n",
            "375/375 [==============================] - 1s 3ms/step - loss: 1.6619 - accuracy: 0.4231 - val_loss: 2.8995 - val_accuracy: 0.1018\n",
            "Epoch 25/100\n",
            "375/375 [==============================] - 1s 3ms/step - loss: 1.6347 - accuracy: 0.4349 - val_loss: 2.9370 - val_accuracy: 0.1014\n",
            "Epoch 26/100\n",
            "375/375 [==============================] - 1s 3ms/step - loss: 1.6044 - accuracy: 0.4444 - val_loss: 2.9810 - val_accuracy: 0.0997\n",
            "Epoch 27/100\n",
            "375/375 [==============================] - 1s 3ms/step - loss: 1.5783 - accuracy: 0.4563 - val_loss: 3.0147 - val_accuracy: 0.1023\n",
            "Epoch 28/100\n",
            "375/375 [==============================] - 1s 3ms/step - loss: 1.5494 - accuracy: 0.4664 - val_loss: 3.0674 - val_accuracy: 0.0995\n",
            "Epoch 29/100\n",
            "375/375 [==============================] - 1s 3ms/step - loss: 1.5235 - accuracy: 0.4789 - val_loss: 3.0997 - val_accuracy: 0.1016\n",
            "Epoch 30/100\n",
            "375/375 [==============================] - 1s 3ms/step - loss: 1.4980 - accuracy: 0.4851 - val_loss: 3.1497 - val_accuracy: 0.0998\n",
            "Epoch 31/100\n",
            "375/375 [==============================] - 1s 3ms/step - loss: 1.4741 - accuracy: 0.4930 - val_loss: 3.2036 - val_accuracy: 0.1046\n",
            "Epoch 32/100\n",
            "375/375 [==============================] - 1s 3ms/step - loss: 1.4466 - accuracy: 0.5061 - val_loss: 3.2528 - val_accuracy: 0.0984\n",
            "Epoch 33/100\n",
            "375/375 [==============================] - 1s 3ms/step - loss: 1.4229 - accuracy: 0.5134 - val_loss: 3.2757 - val_accuracy: 0.0999\n",
            "Epoch 34/100\n",
            "375/375 [==============================] - 1s 3ms/step - loss: 1.3963 - accuracy: 0.5223 - val_loss: 3.3501 - val_accuracy: 0.1070\n",
            "Epoch 35/100\n",
            "375/375 [==============================] - 1s 3ms/step - loss: 1.3734 - accuracy: 0.5317 - val_loss: 3.3846 - val_accuracy: 0.1008\n",
            "Epoch 36/100\n",
            "375/375 [==============================] - 1s 3ms/step - loss: 1.3507 - accuracy: 0.5395 - val_loss: 3.4129 - val_accuracy: 0.1037\n",
            "Epoch 37/100\n",
            "375/375 [==============================] - 1s 3ms/step - loss: 1.3288 - accuracy: 0.5486 - val_loss: 3.4838 - val_accuracy: 0.1063\n",
            "Epoch 38/100\n",
            "375/375 [==============================] - 1s 3ms/step - loss: 1.3074 - accuracy: 0.5539 - val_loss: 3.5340 - val_accuracy: 0.1017\n",
            "Epoch 39/100\n",
            "375/375 [==============================] - 1s 3ms/step - loss: 1.2879 - accuracy: 0.5642 - val_loss: 3.5572 - val_accuracy: 0.1037\n",
            "Epoch 40/100\n",
            "375/375 [==============================] - 1s 3ms/step - loss: 1.2640 - accuracy: 0.5684 - val_loss: 3.6072 - val_accuracy: 0.1024\n",
            "Epoch 41/100\n",
            "375/375 [==============================] - 1s 3ms/step - loss: 1.2439 - accuracy: 0.5772 - val_loss: 3.6782 - val_accuracy: 0.1013\n",
            "Epoch 42/100\n",
            "375/375 [==============================] - 1s 3ms/step - loss: 1.2268 - accuracy: 0.5842 - val_loss: 3.7302 - val_accuracy: 0.1026\n",
            "Epoch 43/100\n",
            "375/375 [==============================] - 1s 3ms/step - loss: 1.2048 - accuracy: 0.5933 - val_loss: 3.7571 - val_accuracy: 0.1049\n",
            "Epoch 44/100\n",
            "375/375 [==============================] - 1s 3ms/step - loss: 1.1850 - accuracy: 0.6004 - val_loss: 3.8138 - val_accuracy: 0.1002\n",
            "Epoch 45/100\n",
            "375/375 [==============================] - 1s 3ms/step - loss: 1.1656 - accuracy: 0.6058 - val_loss: 3.9008 - val_accuracy: 0.1014\n",
            "Epoch 46/100\n",
            "375/375 [==============================] - 1s 3ms/step - loss: 1.1482 - accuracy: 0.6122 - val_loss: 3.9308 - val_accuracy: 0.1020\n",
            "Epoch 47/100\n",
            "375/375 [==============================] - 1s 3ms/step - loss: 1.1320 - accuracy: 0.6211 - val_loss: 3.9604 - val_accuracy: 0.1030\n",
            "Epoch 48/100\n",
            "375/375 [==============================] - 1s 3ms/step - loss: 1.1127 - accuracy: 0.6274 - val_loss: 4.0412 - val_accuracy: 0.1040\n",
            "Epoch 49/100\n",
            "375/375 [==============================] - 1s 3ms/step - loss: 1.0954 - accuracy: 0.6300 - val_loss: 4.0495 - val_accuracy: 0.1006\n",
            "Epoch 50/100\n",
            "375/375 [==============================] - 1s 3ms/step - loss: 1.0793 - accuracy: 0.6371 - val_loss: 4.1238 - val_accuracy: 0.1055\n",
            "Epoch 51/100\n",
            "375/375 [==============================] - 1s 3ms/step - loss: 1.0600 - accuracy: 0.6460 - val_loss: 4.1691 - val_accuracy: 0.1063\n",
            "Epoch 52/100\n",
            "375/375 [==============================] - 1s 3ms/step - loss: 1.0443 - accuracy: 0.6490 - val_loss: 4.2685 - val_accuracy: 0.1052\n",
            "Epoch 53/100\n",
            "375/375 [==============================] - 1s 3ms/step - loss: 1.0281 - accuracy: 0.6555 - val_loss: 4.3073 - val_accuracy: 0.1052\n",
            "Epoch 54/100\n",
            "375/375 [==============================] - 1s 3ms/step - loss: 1.0122 - accuracy: 0.6623 - val_loss: 4.3683 - val_accuracy: 0.1038\n",
            "Epoch 55/100\n",
            "375/375 [==============================] - 1s 3ms/step - loss: 0.9960 - accuracy: 0.6692 - val_loss: 4.4549 - val_accuracy: 0.1046\n",
            "Epoch 56/100\n",
            "375/375 [==============================] - 1s 3ms/step - loss: 0.9820 - accuracy: 0.6720 - val_loss: 4.4786 - val_accuracy: 0.1028\n",
            "Epoch 57/100\n",
            "375/375 [==============================] - 1s 3ms/step - loss: 0.9670 - accuracy: 0.6775 - val_loss: 4.5487 - val_accuracy: 0.1023\n",
            "Epoch 58/100\n",
            "375/375 [==============================] - 1s 3ms/step - loss: 0.9513 - accuracy: 0.6837 - val_loss: 4.5867 - val_accuracy: 0.1067\n",
            "Epoch 59/100\n",
            "375/375 [==============================] - 1s 3ms/step - loss: 0.9378 - accuracy: 0.6872 - val_loss: 4.6392 - val_accuracy: 0.1047\n",
            "Epoch 60/100\n",
            "375/375 [==============================] - 1s 3ms/step - loss: 0.9221 - accuracy: 0.6940 - val_loss: 4.7077 - val_accuracy: 0.1045\n",
            "Epoch 61/100\n",
            "375/375 [==============================] - 1s 3ms/step - loss: 0.9089 - accuracy: 0.6983 - val_loss: 4.7339 - val_accuracy: 0.1046\n",
            "Epoch 62/100\n",
            "375/375 [==============================] - 1s 3ms/step - loss: 0.8957 - accuracy: 0.7021 - val_loss: 4.8429 - val_accuracy: 0.1032\n",
            "Epoch 63/100\n",
            "375/375 [==============================] - 1s 3ms/step - loss: 0.8826 - accuracy: 0.7088 - val_loss: 4.8503 - val_accuracy: 0.1052\n",
            "Epoch 64/100\n",
            "375/375 [==============================] - 1s 3ms/step - loss: 0.8699 - accuracy: 0.7118 - val_loss: 4.9352 - val_accuracy: 0.1058\n",
            "Epoch 65/100\n",
            "375/375 [==============================] - 1s 3ms/step - loss: 0.8553 - accuracy: 0.7155 - val_loss: 4.9819 - val_accuracy: 0.1064\n",
            "Epoch 66/100\n",
            "375/375 [==============================] - 1s 3ms/step - loss: 0.8449 - accuracy: 0.7199 - val_loss: 5.0751 - val_accuracy: 0.1062\n",
            "Epoch 67/100\n",
            "375/375 [==============================] - 1s 3ms/step - loss: 0.8314 - accuracy: 0.7255 - val_loss: 5.1149 - val_accuracy: 0.1056\n",
            "Epoch 68/100\n",
            "375/375 [==============================] - 1s 3ms/step - loss: 0.8182 - accuracy: 0.7310 - val_loss: 5.1737 - val_accuracy: 0.1036\n",
            "Epoch 69/100\n",
            "375/375 [==============================] - 1s 3ms/step - loss: 0.8069 - accuracy: 0.7335 - val_loss: 5.2598 - val_accuracy: 0.1041\n",
            "Epoch 70/100\n",
            "375/375 [==============================] - 1s 3ms/step - loss: 0.7937 - accuracy: 0.7395 - val_loss: 5.3070 - val_accuracy: 0.1024\n",
            "Epoch 71/100\n",
            "375/375 [==============================] - 1s 3ms/step - loss: 0.7805 - accuracy: 0.7414 - val_loss: 5.3445 - val_accuracy: 0.1035\n",
            "Epoch 72/100\n",
            "375/375 [==============================] - 1s 3ms/step - loss: 0.7714 - accuracy: 0.7462 - val_loss: 5.4542 - val_accuracy: 0.0999\n",
            "Epoch 73/100\n",
            "375/375 [==============================] - 1s 3ms/step - loss: 0.7600 - accuracy: 0.7504 - val_loss: 5.4819 - val_accuracy: 0.1058\n",
            "Epoch 74/100\n",
            "375/375 [==============================] - 1s 3ms/step - loss: 0.7485 - accuracy: 0.7547 - val_loss: 5.5512 - val_accuracy: 0.1046\n",
            "Epoch 75/100\n",
            "375/375 [==============================] - 1s 3ms/step - loss: 0.7388 - accuracy: 0.7571 - val_loss: 5.5889 - val_accuracy: 0.1047\n",
            "Epoch 76/100\n",
            "375/375 [==============================] - 1s 3ms/step - loss: 0.7260 - accuracy: 0.7635 - val_loss: 5.6751 - val_accuracy: 0.1023\n",
            "Epoch 77/100\n",
            "375/375 [==============================] - 1s 3ms/step - loss: 0.7159 - accuracy: 0.7642 - val_loss: 5.7149 - val_accuracy: 0.1032\n",
            "Epoch 78/100\n",
            "375/375 [==============================] - 1s 3ms/step - loss: 0.7062 - accuracy: 0.7670 - val_loss: 5.7681 - val_accuracy: 0.1047\n",
            "Epoch 79/100\n",
            "375/375 [==============================] - 1s 3ms/step - loss: 0.6967 - accuracy: 0.7720 - val_loss: 5.9219 - val_accuracy: 0.1026\n",
            "Epoch 80/100\n",
            "375/375 [==============================] - 1s 3ms/step - loss: 0.6889 - accuracy: 0.7732 - val_loss: 5.9026 - val_accuracy: 0.1002\n",
            "Epoch 81/100\n",
            "375/375 [==============================] - 1s 3ms/step - loss: 0.6761 - accuracy: 0.7777 - val_loss: 5.9541 - val_accuracy: 0.0974\n",
            "Epoch 82/100\n",
            "375/375 [==============================] - 1s 3ms/step - loss: 0.6646 - accuracy: 0.7831 - val_loss: 6.0587 - val_accuracy: 0.1032\n",
            "Epoch 83/100\n",
            "375/375 [==============================] - 1s 3ms/step - loss: 0.6563 - accuracy: 0.7853 - val_loss: 6.1360 - val_accuracy: 0.1040\n",
            "Epoch 84/100\n",
            "375/375 [==============================] - 1s 3ms/step - loss: 0.6484 - accuracy: 0.7877 - val_loss: 6.1697 - val_accuracy: 0.1030\n",
            "Epoch 85/100\n",
            "375/375 [==============================] - 1s 3ms/step - loss: 0.6368 - accuracy: 0.7931 - val_loss: 6.2846 - val_accuracy: 0.1042\n",
            "Epoch 86/100\n",
            "375/375 [==============================] - 1s 3ms/step - loss: 0.6312 - accuracy: 0.7929 - val_loss: 6.3591 - val_accuracy: 0.1035\n",
            "Epoch 87/100\n",
            "375/375 [==============================] - 1s 3ms/step - loss: 0.6204 - accuracy: 0.7982 - val_loss: 6.3857 - val_accuracy: 0.1028\n",
            "Epoch 88/100\n",
            "375/375 [==============================] - 1s 3ms/step - loss: 0.6115 - accuracy: 0.8029 - val_loss: 6.4633 - val_accuracy: 0.1046\n",
            "Epoch 89/100\n",
            "375/375 [==============================] - 1s 3ms/step - loss: 0.6040 - accuracy: 0.8055 - val_loss: 6.5226 - val_accuracy: 0.1051\n",
            "Epoch 90/100\n",
            "375/375 [==============================] - 1s 3ms/step - loss: 0.5952 - accuracy: 0.8062 - val_loss: 6.6150 - val_accuracy: 0.1025\n",
            "Epoch 91/100\n",
            "375/375 [==============================] - 1s 3ms/step - loss: 0.5862 - accuracy: 0.8112 - val_loss: 6.6877 - val_accuracy: 0.1047\n",
            "Epoch 92/100\n",
            "375/375 [==============================] - 2s 5ms/step - loss: 0.5775 - accuracy: 0.8141 - val_loss: 6.7371 - val_accuracy: 0.1023\n",
            "Epoch 93/100\n",
            "375/375 [==============================] - 1s 3ms/step - loss: 0.5710 - accuracy: 0.8148 - val_loss: 6.7810 - val_accuracy: 0.1038\n",
            "Epoch 94/100\n",
            "375/375 [==============================] - 1s 3ms/step - loss: 0.5595 - accuracy: 0.8199 - val_loss: 6.8701 - val_accuracy: 0.1028\n",
            "Epoch 95/100\n",
            "375/375 [==============================] - 1s 3ms/step - loss: 0.5546 - accuracy: 0.8215 - val_loss: 6.9747 - val_accuracy: 0.1027\n",
            "Epoch 96/100\n",
            "375/375 [==============================] - 1s 3ms/step - loss: 0.5475 - accuracy: 0.8233 - val_loss: 6.9845 - val_accuracy: 0.1044\n",
            "Epoch 97/100\n",
            "375/375 [==============================] - 1s 3ms/step - loss: 0.5383 - accuracy: 0.8280 - val_loss: 7.0716 - val_accuracy: 0.1036\n",
            "Epoch 98/100\n",
            "375/375 [==============================] - 1s 3ms/step - loss: 0.5286 - accuracy: 0.8299 - val_loss: 7.1555 - val_accuracy: 0.1031\n",
            "Epoch 99/100\n",
            "375/375 [==============================] - 1s 3ms/step - loss: 0.5231 - accuracy: 0.8324 - val_loss: 7.2431 - val_accuracy: 0.1046\n",
            "Epoch 100/100\n",
            "375/375 [==============================] - 1s 3ms/step - loss: 0.5148 - accuracy: 0.8351 - val_loss: 7.3231 - val_accuracy: 0.1034\n"
          ]
        },
        {
          "output_type": "execute_result",
          "data": {
            "text/plain": [
              "<keras.callbacks.History at 0x7f2b7674da50>"
            ]
          },
          "metadata": {},
          "execution_count": 8
        }
      ]
    },
    {
      "cell_type": "code",
      "source": [
        "!nvidia-smi"
      ],
      "metadata": {
        "colab": {
          "base_uri": "https://localhost:8080/"
        },
        "id": "ShcPKzdCw0Pr",
        "outputId": "6248c09a-2f67-4cb2-b887-7ee20358d4ea"
      },
      "execution_count": 9,
      "outputs": [
        {
          "output_type": "stream",
          "name": "stdout",
          "text": [
            "Mon Apr  4 13:28:43 2022       \n",
            "+-----------------------------------------------------------------------------+\n",
            "| NVIDIA-SMI 460.32.03    Driver Version: 460.32.03    CUDA Version: 11.2     |\n",
            "|-------------------------------+----------------------+----------------------+\n",
            "| GPU  Name        Persistence-M| Bus-Id        Disp.A | Volatile Uncorr. ECC |\n",
            "| Fan  Temp  Perf  Pwr:Usage/Cap|         Memory-Usage | GPU-Util  Compute M. |\n",
            "|                               |                      |               MIG M. |\n",
            "|===============================+======================+======================|\n",
            "|   0  Tesla P100-PCIE...  Off  | 00000000:00:04.0 Off |                    0 |\n",
            "| N/A   35C    P0    34W / 250W |   1475MiB / 16280MiB |      8%      Default |\n",
            "|                               |                      |                  N/A |\n",
            "+-------------------------------+----------------------+----------------------+\n",
            "                                                                               \n",
            "+-----------------------------------------------------------------------------+\n",
            "| Processes:                                                                  |\n",
            "|  GPU   GI   CI        PID   Type   Process name                  GPU Memory |\n",
            "|        ID   ID                                                   Usage      |\n",
            "|=============================================================================|\n",
            "+-----------------------------------------------------------------------------+\n"
          ]
        }
      ]
    },
    {
      "cell_type": "markdown",
      "source": [
        "## Tuning gradient descent parameters"
      ],
      "metadata": {
        "id": "tw9Y_fHQqWM2"
      }
    },
    {
      "cell_type": "code",
      "source": [
        "(train_images, train_labels), _ = mnist.load_data()\n",
        "train_images = train_images.reshape((60000, 28 * 28))\n",
        "train_images = train_images.astype(\"float32\") / 255\n",
        "\n",
        "model = keras.Sequential([\n",
        "    layers.Dense(512, activation=\"relu\"),\n",
        "    layers.Dense(10, activation=\"softmax\")\n",
        "])\n",
        "\n",
        "model.compile(\n",
        "    optimizer=keras.optimizers.RMSprop(1.),\n",
        "    loss=\"sparse_categorical_crossentropy\",\n",
        "    metrics=[\"accuracy\"]\n",
        ")\n",
        "model.fit(\n",
        "    train_images,\n",
        "    train_labels,\n",
        "    epochs=10,\n",
        "    batch_size=128,\n",
        "    validation_split=0.2\n",
        ")"
      ],
      "metadata": {
        "colab": {
          "base_uri": "https://localhost:8080/"
        },
        "id": "nQUC80y2tVRo",
        "outputId": "918e2b78-fbd2-4b7d-f29e-d5daaf2dec24"
      },
      "execution_count": 10,
      "outputs": [
        {
          "output_type": "stream",
          "name": "stdout",
          "text": [
            "Epoch 1/10\n",
            "375/375 [==============================] - 1s 3ms/step - loss: 715.3451 - accuracy: 0.3930 - val_loss: 6.7103 - val_accuracy: 0.3370\n",
            "Epoch 2/10\n",
            "375/375 [==============================] - 1s 3ms/step - loss: 4.9527 - accuracy: 0.2757 - val_loss: 3.6615 - val_accuracy: 0.2855\n",
            "Epoch 3/10\n",
            "375/375 [==============================] - 1s 3ms/step - loss: 2.8329 - accuracy: 0.2682 - val_loss: 2.3242 - val_accuracy: 0.2438\n",
            "Epoch 4/10\n",
            "375/375 [==============================] - 1s 3ms/step - loss: 2.8885 - accuracy: 0.2709 - val_loss: 2.4760 - val_accuracy: 0.3111\n",
            "Epoch 5/10\n",
            "375/375 [==============================] - 1s 3ms/step - loss: 2.9129 - accuracy: 0.2722 - val_loss: 2.1915 - val_accuracy: 0.2968\n",
            "Epoch 6/10\n",
            "375/375 [==============================] - 1s 3ms/step - loss: 2.7574 - accuracy: 0.2734 - val_loss: 2.0259 - val_accuracy: 0.2615\n",
            "Epoch 7/10\n",
            "375/375 [==============================] - 1s 3ms/step - loss: 2.7447 - accuracy: 0.2814 - val_loss: 2.1172 - val_accuracy: 0.3157\n",
            "Epoch 8/10\n",
            "375/375 [==============================] - 1s 3ms/step - loss: 2.3268 - accuracy: 0.2652 - val_loss: 2.0197 - val_accuracy: 0.2578\n",
            "Epoch 9/10\n",
            "375/375 [==============================] - 1s 3ms/step - loss: 2.4028 - accuracy: 0.2668 - val_loss: 2.5268 - val_accuracy: 0.2629\n",
            "Epoch 10/10\n",
            "375/375 [==============================] - 1s 3ms/step - loss: 2.4660 - accuracy: 0.2657 - val_loss: 2.3484 - val_accuracy: 0.2196\n"
          ]
        },
        {
          "output_type": "execute_result",
          "data": {
            "text/plain": [
              "<keras.callbacks.History at 0x7f2b60193790>"
            ]
          },
          "metadata": {},
          "execution_count": 10
        }
      ]
    },
    {
      "cell_type": "code",
      "source": [
        "model = keras.Sequential([\n",
        "    layers.Dense(512, activation=\"relu\"),\n",
        "    layers.Dense(10, activation=\"softmax\")\n",
        "])\n",
        "model.compile(optimizer=keras.optimizers.RMSprop(1e-2),\n",
        "              loss=\"sparse_categorical_crossentropy\",\n",
        "              metrics=[\"accuracy\"])\n",
        "model.fit(train_images, train_labels,\n",
        "          epochs=10,\n",
        "          batch_size=128,\n",
        "          validation_split=0.2)"
      ],
      "metadata": {
        "colab": {
          "base_uri": "https://localhost:8080/"
        },
        "id": "w5__s_pwtyS1",
        "outputId": "0b16d173-0f9a-4f94-c542-78cc8e3912e2"
      },
      "execution_count": 11,
      "outputs": [
        {
          "output_type": "stream",
          "name": "stdout",
          "text": [
            "Epoch 1/10\n",
            "375/375 [==============================] - 2s 3ms/step - loss: 0.3993 - accuracy: 0.9089 - val_loss: 0.1411 - val_accuracy: 0.9600\n",
            "Epoch 2/10\n",
            "375/375 [==============================] - 1s 3ms/step - loss: 0.1424 - accuracy: 0.9625 - val_loss: 0.1683 - val_accuracy: 0.9620\n",
            "Epoch 3/10\n",
            "375/375 [==============================] - 1s 3ms/step - loss: 0.1151 - accuracy: 0.9717 - val_loss: 0.1772 - val_accuracy: 0.9657\n",
            "Epoch 4/10\n",
            "375/375 [==============================] - 1s 3ms/step - loss: 0.1015 - accuracy: 0.9781 - val_loss: 0.1984 - val_accuracy: 0.9653\n",
            "Epoch 5/10\n",
            "375/375 [==============================] - 1s 3ms/step - loss: 0.0926 - accuracy: 0.9811 - val_loss: 0.1994 - val_accuracy: 0.9732\n",
            "Epoch 6/10\n",
            "375/375 [==============================] - 1s 3ms/step - loss: 0.0832 - accuracy: 0.9844 - val_loss: 0.2116 - val_accuracy: 0.9724\n",
            "Epoch 7/10\n",
            "375/375 [==============================] - 1s 3ms/step - loss: 0.0666 - accuracy: 0.9868 - val_loss: 0.2837 - val_accuracy: 0.9725\n",
            "Epoch 8/10\n",
            "375/375 [==============================] - 1s 3ms/step - loss: 0.0620 - accuracy: 0.9883 - val_loss: 0.2359 - val_accuracy: 0.9749\n",
            "Epoch 9/10\n",
            "375/375 [==============================] - 1s 3ms/step - loss: 0.0662 - accuracy: 0.9889 - val_loss: 0.3014 - val_accuracy: 0.9711\n",
            "Epoch 10/10\n",
            "375/375 [==============================] - 1s 3ms/step - loss: 0.0553 - accuracy: 0.9906 - val_loss: 0.2753 - val_accuracy: 0.9757\n"
          ]
        },
        {
          "output_type": "execute_result",
          "data": {
            "text/plain": [
              "<keras.callbacks.History at 0x7f2c76b04490>"
            ]
          },
          "metadata": {},
          "execution_count": 11
        }
      ]
    },
    {
      "cell_type": "markdown",
      "source": [
        "## Incresaing model capacity"
      ],
      "metadata": {
        "id": "6AletUVkuEPx"
      }
    },
    {
      "cell_type": "code",
      "source": [
        "model = keras.Sequential([layers.Dense(10, activation=\"softmax\")])\n",
        "model.compile(optimizer=\"rmsprop\",\n",
        "              loss=\"sparse_categorical_crossentropy\",\n",
        "              metrics=[\"accuracy\"])\n",
        "history_small_model = model.fit(\n",
        "    train_images, train_labels,\n",
        "    epochs=20,\n",
        "    batch_size=128,\n",
        "    validation_split=0.2)"
      ],
      "metadata": {
        "colab": {
          "base_uri": "https://localhost:8080/"
        },
        "id": "OAXArg-BuXS2",
        "outputId": "2a9148eb-f41e-444c-9b78-811724fc3a06"
      },
      "execution_count": 12,
      "outputs": [
        {
          "output_type": "stream",
          "name": "stdout",
          "text": [
            "Epoch 1/20\n",
            "375/375 [==============================] - 1s 3ms/step - loss: 0.6719 - accuracy: 0.8357 - val_loss: 0.3571 - val_accuracy: 0.9059\n",
            "Epoch 2/20\n",
            "375/375 [==============================] - 1s 3ms/step - loss: 0.3507 - accuracy: 0.9041 - val_loss: 0.3080 - val_accuracy: 0.9146\n",
            "Epoch 3/20\n",
            "375/375 [==============================] - 1s 3ms/step - loss: 0.3152 - accuracy: 0.9122 - val_loss: 0.2880 - val_accuracy: 0.9193\n",
            "Epoch 4/20\n",
            "375/375 [==============================] - 1s 3ms/step - loss: 0.2989 - accuracy: 0.9170 - val_loss: 0.2797 - val_accuracy: 0.9223\n",
            "Epoch 5/20\n",
            "375/375 [==============================] - 1s 3ms/step - loss: 0.2898 - accuracy: 0.9195 - val_loss: 0.2750 - val_accuracy: 0.9241\n",
            "Epoch 6/20\n",
            "375/375 [==============================] - 1s 3ms/step - loss: 0.2831 - accuracy: 0.9209 - val_loss: 0.2709 - val_accuracy: 0.9252\n",
            "Epoch 7/20\n",
            "375/375 [==============================] - 1s 3ms/step - loss: 0.2782 - accuracy: 0.9223 - val_loss: 0.2682 - val_accuracy: 0.9268\n",
            "Epoch 8/20\n",
            "375/375 [==============================] - 1s 3ms/step - loss: 0.2743 - accuracy: 0.9230 - val_loss: 0.2658 - val_accuracy: 0.9277\n",
            "Epoch 9/20\n",
            "375/375 [==============================] - 1s 3ms/step - loss: 0.2712 - accuracy: 0.9243 - val_loss: 0.2645 - val_accuracy: 0.9286\n",
            "Epoch 10/20\n",
            "375/375 [==============================] - 1s 3ms/step - loss: 0.2688 - accuracy: 0.9252 - val_loss: 0.2644 - val_accuracy: 0.9292\n",
            "Epoch 11/20\n",
            "375/375 [==============================] - 1s 3ms/step - loss: 0.2667 - accuracy: 0.9264 - val_loss: 0.2644 - val_accuracy: 0.9278\n",
            "Epoch 12/20\n",
            "375/375 [==============================] - 1s 3ms/step - loss: 0.2649 - accuracy: 0.9270 - val_loss: 0.2640 - val_accuracy: 0.9285\n",
            "Epoch 13/20\n",
            "375/375 [==============================] - 1s 3ms/step - loss: 0.2635 - accuracy: 0.9279 - val_loss: 0.2622 - val_accuracy: 0.9285\n",
            "Epoch 14/20\n",
            "375/375 [==============================] - 1s 3ms/step - loss: 0.2617 - accuracy: 0.9283 - val_loss: 0.2613 - val_accuracy: 0.9302\n",
            "Epoch 15/20\n",
            "375/375 [==============================] - 1s 3ms/step - loss: 0.2601 - accuracy: 0.9285 - val_loss: 0.2618 - val_accuracy: 0.9302\n",
            "Epoch 16/20\n",
            "375/375 [==============================] - 1s 3ms/step - loss: 0.2591 - accuracy: 0.9287 - val_loss: 0.2605 - val_accuracy: 0.9297\n",
            "Epoch 17/20\n",
            "375/375 [==============================] - 1s 2ms/step - loss: 0.2586 - accuracy: 0.9295 - val_loss: 0.2604 - val_accuracy: 0.9312\n",
            "Epoch 18/20\n",
            "375/375 [==============================] - 1s 3ms/step - loss: 0.2571 - accuracy: 0.9296 - val_loss: 0.2595 - val_accuracy: 0.9317\n",
            "Epoch 19/20\n",
            "375/375 [==============================] - 1s 3ms/step - loss: 0.2565 - accuracy: 0.9304 - val_loss: 0.2611 - val_accuracy: 0.9303\n",
            "Epoch 20/20\n",
            "375/375 [==============================] - 1s 3ms/step - loss: 0.2556 - accuracy: 0.9301 - val_loss: 0.2605 - val_accuracy: 0.9301\n"
          ]
        }
      ]
    },
    {
      "cell_type": "code",
      "source": [
        "import matplotlib.pyplot as plt\n",
        "val_loss = history_small_model.history[\"val_loss\"]\n",
        "epochs = range(1, 21)\n",
        "plt.plot(epochs, val_loss, \"b--\",\n",
        "         label=\"Validation loss\")\n",
        "plt.title(\"Effect of insufficient model capacity on validation loss\")\n",
        "plt.xlabel(\"Epochs\")\n",
        "plt.ylabel(\"Loss\")\n",
        "plt.legend()"
      ],
      "metadata": {
        "colab": {
          "base_uri": "https://localhost:8080/",
          "height": 312
        },
        "id": "qOhLwj55uZQu",
        "outputId": "056ba4f0-8a29-4769-9d17-dd08fdf2e693"
      },
      "execution_count": 13,
      "outputs": [
        {
          "output_type": "execute_result",
          "data": {
            "text/plain": [
              "<matplotlib.legend.Legend at 0x7f2c769b0c10>"
            ]
          },
          "metadata": {},
          "execution_count": 13
        },
        {
          "output_type": "display_data",
          "data": {
            "text/plain": [
              "<Figure size 432x288 with 1 Axes>"
            ],
            "image/png": "[encoded data removed]"
          },
          "metadata": {
            "needs_background": "light"
          }
        }
      ]
    },
    {
      "cell_type": "code",
      "source": [
        "model = keras.Sequential([\n",
        "    layers.Dense(96, activation=\"relu\"),\n",
        "    layers.Dense(96, activation=\"relu\"),\n",
        "    layers.Dense(10, activation=\"softmax\"),\n",
        "])\n",
        "model.compile(optimizer=\"rmsprop\",\n",
        "              loss=\"sparse_categorical_crossentropy\",\n",
        "              metrics=[\"accuracy\"])\n",
        "history_large_model = model.fit(\n",
        "    train_images, train_labels,\n",
        "    epochs=20,\n",
        "    batch_size=128,\n",
        "    validation_split=0.2)"
      ],
      "metadata": {
        "colab": {
          "base_uri": "https://localhost:8080/"
        },
        "id": "qxt6c_Qhuk9R",
        "outputId": "6d02e767-7e3c-42ba-ea9e-309517701c0a"
      },
      "execution_count": 14,
      "outputs": [
        {
          "output_type": "stream",
          "name": "stdout",
          "text": [
            "Epoch 1/20\n",
            "375/375 [==============================] - 2s 4ms/step - loss: 0.3523 - accuracy: 0.9001 - val_loss: 0.1789 - val_accuracy: 0.9476\n",
            "Epoch 2/20\n",
            "375/375 [==============================] - 1s 3ms/step - loss: 0.1650 - accuracy: 0.9512 - val_loss: 0.1705 - val_accuracy: 0.9495\n",
            "Epoch 3/20\n",
            "375/375 [==============================] - 1s 3ms/step - loss: 0.1180 - accuracy: 0.9646 - val_loss: 0.1154 - val_accuracy: 0.9658\n",
            "Epoch 4/20\n",
            "375/375 [==============================] - 1s 3ms/step - loss: 0.0899 - accuracy: 0.9726 - val_loss: 0.1089 - val_accuracy: 0.9657\n",
            "Epoch 5/20\n",
            "375/375 [==============================] - 1s 3ms/step - loss: 0.0713 - accuracy: 0.9780 - val_loss: 0.1044 - val_accuracy: 0.9690\n",
            "Epoch 6/20\n",
            "375/375 [==============================] - 2s 5ms/step - loss: 0.0576 - accuracy: 0.9828 - val_loss: 0.0947 - val_accuracy: 0.9734\n",
            "Epoch 7/20\n",
            "375/375 [==============================] - 1s 3ms/step - loss: 0.0482 - accuracy: 0.9848 - val_loss: 0.0936 - val_accuracy: 0.9733\n",
            "Epoch 8/20\n",
            "375/375 [==============================] - 1s 3ms/step - loss: 0.0406 - accuracy: 0.9873 - val_loss: 0.1079 - val_accuracy: 0.9691\n",
            "Epoch 9/20\n",
            "375/375 [==============================] - 1s 3ms/step - loss: 0.0337 - accuracy: 0.9893 - val_loss: 0.1039 - val_accuracy: 0.9696\n",
            "Epoch 10/20\n",
            "375/375 [==============================] - 1s 3ms/step - loss: 0.0284 - accuracy: 0.9913 - val_loss: 0.1052 - val_accuracy: 0.9739\n",
            "Epoch 11/20\n",
            "375/375 [==============================] - 1s 3ms/step - loss: 0.0235 - accuracy: 0.9928 - val_loss: 0.1086 - val_accuracy: 0.9724\n",
            "Epoch 12/20\n",
            "375/375 [==============================] - 1s 3ms/step - loss: 0.0199 - accuracy: 0.9937 - val_loss: 0.1145 - val_accuracy: 0.9737\n",
            "Epoch 13/20\n",
            "375/375 [==============================] - 1s 3ms/step - loss: 0.0176 - accuracy: 0.9945 - val_loss: 0.1212 - val_accuracy: 0.9723\n",
            "Epoch 14/20\n",
            "375/375 [==============================] - 1s 3ms/step - loss: 0.0142 - accuracy: 0.9958 - val_loss: 0.1164 - val_accuracy: 0.9748\n",
            "Epoch 15/20\n",
            "375/375 [==============================] - 1s 3ms/step - loss: 0.0124 - accuracy: 0.9960 - val_loss: 0.1193 - val_accuracy: 0.9744\n",
            "Epoch 16/20\n",
            "375/375 [==============================] - 1s 3ms/step - loss: 0.0103 - accuracy: 0.9968 - val_loss: 0.1194 - val_accuracy: 0.9762\n",
            "Epoch 17/20\n",
            "375/375 [==============================] - 1s 3ms/step - loss: 0.0082 - accuracy: 0.9976 - val_loss: 0.1292 - val_accuracy: 0.9745\n",
            "Epoch 18/20\n",
            "375/375 [==============================] - 2s 4ms/step - loss: 0.0077 - accuracy: 0.9976 - val_loss: 0.1347 - val_accuracy: 0.9739\n",
            "Epoch 19/20\n",
            "375/375 [==============================] - 1s 3ms/step - loss: 0.0067 - accuracy: 0.9978 - val_loss: 0.1320 - val_accuracy: 0.9768\n",
            "Epoch 20/20\n",
            "375/375 [==============================] - 1s 3ms/step - loss: 0.0063 - accuracy: 0.9981 - val_loss: 0.1359 - val_accuracy: 0.9768\n"
          ]
        }
      ]
    },
    {
      "cell_type": "code",
      "source": [
        "import matplotlib.pyplot as plt\n",
        "val_loss = history_large_model.history[\"val_loss\"]\n",
        "epochs = range(1, 21)\n",
        "plt.plot(epochs, val_loss, \"b--\",\n",
        "         label=\"Validation loss\")\n",
        "plt.title(\"Effect of increased capacity on validation loss\")\n",
        "plt.xlabel(\"Epochs\")\n",
        "plt.ylabel(\"Loss\")\n",
        "plt.legend()"
      ],
      "metadata": {
        "colab": {
          "base_uri": "https://localhost:8080/",
          "height": 312
        },
        "id": "c4cqiSF_uqrf",
        "outputId": "80ef57ad-45ec-474f-c429-ff3f82380560"
      },
      "execution_count": 15,
      "outputs": [
        {
          "output_type": "execute_result",
          "data": {
            "text/plain": [
              "<matplotlib.legend.Legend at 0x7f2c76743890>"
            ]
          },
          "metadata": {},
          "execution_count": 15
        },
        {
          "output_type": "display_data",
          "data": {
            "text/plain": [
              "<Figure size 432x288 with 1 Axes>"
            ],
            "image/png": "[encoded data removed]"
          },
          "metadata": {
            "needs_background": "light"
          }
        }
      ]
    },
    {
      "cell_type": "markdown",
      "source": [
        "## Reducing network size"
      ],
      "metadata": {
        "id": "mfjKOR-xu818"
      }
    },
    {
      "cell_type": "code",
      "source": [
        "from tensorflow.keras.datasets import imdb\n",
        "(train_data, train_labels), _ = imdb.load_data(num_words=10000)\n",
        "\n",
        "def vectorize_sequences(sequences, dimension=10000):\n",
        "    results = np.zeros((len(sequences), dimension))\n",
        "    for i, sequence in enumerate(sequences):\n",
        "        results[i, sequence] = 1.\n",
        "    return results\n",
        "train_data = vectorize_sequences(train_data)\n",
        "\n",
        "model = keras.Sequential([\n",
        "    layers.Dense(16, activation=\"relu\"),\n",
        "    layers.Dense(16, activation=\"relu\"),\n",
        "    layers.Dense(1, activation=\"sigmoid\")\n",
        "])\n",
        "model.compile(optimizer=\"rmsprop\",\n",
        "              loss=\"binary_crossentropy\",\n",
        "              metrics=[\"accuracy\"])\n",
        "history_original = model.fit(train_data, train_labels,\n",
        "                             epochs=20, batch_size=512, validation_split=0.4)"
      ],
      "metadata": {
        "colab": {
          "base_uri": "https://localhost:8080/"
        },
        "id": "zkD8AU2czqae",
        "outputId": "3e696e56-fdcf-4cb8-89d0-e47e46430200"
      },
      "execution_count": 16,
      "outputs": [
        {
          "output_type": "stream",
          "name": "stdout",
          "text": [
            "Downloading data from https://storage.googleapis.com/tensorflow/tf-keras-datasets/imdb.npz\n",
            "17465344/17464789 [==============================] - 0s 0us/step\n",
            "17473536/17464789 [==============================] - 0s 0us/step\n",
            "Epoch 1/20\n",
            "30/30 [==============================] - 2s 39ms/step - loss: 0.5164 - accuracy: 0.7800 - val_loss: 0.3901 - val_accuracy: 0.8690\n",
            "Epoch 2/20\n",
            "30/30 [==============================] - 1s 19ms/step - loss: 0.3071 - accuracy: 0.9027 - val_loss: 0.3038 - val_accuracy: 0.8882\n",
            "Epoch 3/20\n",
            "30/30 [==============================] - 1s 19ms/step - loss: 0.2264 - accuracy: 0.9265 - val_loss: 0.2965 - val_accuracy: 0.8789\n",
            "Epoch 4/20\n",
            "30/30 [==============================] - 1s 19ms/step - loss: 0.1793 - accuracy: 0.9417 - val_loss: 0.2724 - val_accuracy: 0.8933\n",
            "Epoch 5/20\n",
            "30/30 [==============================] - 1s 19ms/step - loss: 0.1449 - accuracy: 0.9547 - val_loss: 0.2839 - val_accuracy: 0.8882\n",
            "Epoch 6/20\n",
            "30/30 [==============================] - 1s 19ms/step - loss: 0.1225 - accuracy: 0.9636 - val_loss: 0.3102 - val_accuracy: 0.8797\n",
            "Epoch 7/20\n",
            "30/30 [==============================] - 1s 19ms/step - loss: 0.1017 - accuracy: 0.9703 - val_loss: 0.3089 - val_accuracy: 0.8860\n",
            "Epoch 8/20\n",
            "30/30 [==============================] - 1s 19ms/step - loss: 0.0832 - accuracy: 0.9754 - val_loss: 0.3405 - val_accuracy: 0.8813\n",
            "Epoch 9/20\n",
            "30/30 [==============================] - 1s 20ms/step - loss: 0.0724 - accuracy: 0.9785 - val_loss: 0.3538 - val_accuracy: 0.8815\n",
            "Epoch 10/20\n",
            "30/30 [==============================] - 1s 19ms/step - loss: 0.0591 - accuracy: 0.9847 - val_loss: 0.3762 - val_accuracy: 0.8809\n",
            "Epoch 11/20\n",
            "30/30 [==============================] - 1s 19ms/step - loss: 0.0485 - accuracy: 0.9881 - val_loss: 0.4058 - val_accuracy: 0.8776\n",
            "Epoch 12/20\n",
            "30/30 [==============================] - 1s 19ms/step - loss: 0.0402 - accuracy: 0.9907 - val_loss: 0.4329 - val_accuracy: 0.8728\n",
            "Epoch 13/20\n",
            "30/30 [==============================] - 1s 19ms/step - loss: 0.0316 - accuracy: 0.9934 - val_loss: 0.5203 - val_accuracy: 0.8659\n",
            "Epoch 14/20\n",
            "30/30 [==============================] - 1s 19ms/step - loss: 0.0286 - accuracy: 0.9932 - val_loss: 0.5023 - val_accuracy: 0.8704\n",
            "Epoch 15/20\n",
            "30/30 [==============================] - 1s 19ms/step - loss: 0.0203 - accuracy: 0.9968 - val_loss: 0.5297 - val_accuracy: 0.8686\n",
            "Epoch 16/20\n",
            "30/30 [==============================] - 1s 21ms/step - loss: 0.0176 - accuracy: 0.9976 - val_loss: 0.5568 - val_accuracy: 0.8673\n",
            "Epoch 17/20\n",
            "30/30 [==============================] - 1s 19ms/step - loss: 0.0138 - accuracy: 0.9979 - val_loss: 0.6016 - val_accuracy: 0.8683\n",
            "Epoch 18/20\n",
            "30/30 [==============================] - 1s 20ms/step - loss: 0.0142 - accuracy: 0.9968 - val_loss: 0.6373 - val_accuracy: 0.8675\n",
            "Epoch 19/20\n",
            "30/30 [==============================] - 1s 19ms/step - loss: 0.0062 - accuracy: 0.9995 - val_loss: 0.6595 - val_accuracy: 0.8669\n",
            "Epoch 20/20\n",
            "30/30 [==============================] - 1s 19ms/step - loss: 0.0079 - accuracy: 0.9987 - val_loss: 0.7055 - val_accuracy: 0.8648\n"
          ]
        }
      ]
    },
    {
      "cell_type": "code",
      "source": [
        "model = keras.Sequential([\n",
        "    layers.Dense(4, activation=\"relu\"),\n",
        "    layers.Dense(4, activation=\"relu\"),\n",
        "    layers.Dense(1, activation=\"sigmoid\")\n",
        "])\n",
        "model.compile(optimizer=\"rmsprop\",\n",
        "              loss=\"binary_crossentropy\",\n",
        "              metrics=[\"accuracy\"])\n",
        "history_smaller_model = model.fit(\n",
        "    train_data, train_labels,\n",
        "    epochs=20, batch_size=512, validation_split=0.4)"
      ],
      "metadata": {
        "colab": {
          "base_uri": "https://localhost:8080/"
        },
        "id": "Y2D1K0Zcz0iw",
        "outputId": "0c66f060-aea0-4174-f945-294b591fe085"
      },
      "execution_count": 17,
      "outputs": [
        {
          "output_type": "stream",
          "name": "stdout",
          "text": [
            "Epoch 1/20\n",
            "30/30 [==============================] - 2s 40ms/step - loss: 0.5945 - accuracy: 0.7810 - val_loss: 0.5179 - val_accuracy: 0.8412\n",
            "Epoch 2/20\n",
            "30/30 [==============================] - 1s 20ms/step - loss: 0.4472 - accuracy: 0.8807 - val_loss: 0.4173 - val_accuracy: 0.8749\n",
            "Epoch 3/20\n",
            "30/30 [==============================] - 1s 19ms/step - loss: 0.3543 - accuracy: 0.9043 - val_loss: 0.3556 - val_accuracy: 0.8835\n",
            "Epoch 4/20\n",
            "30/30 [==============================] - 1s 19ms/step - loss: 0.2902 - accuracy: 0.9190 - val_loss: 0.3178 - val_accuracy: 0.8865\n",
            "Epoch 5/20\n",
            "30/30 [==============================] - 1s 20ms/step - loss: 0.2450 - accuracy: 0.9297 - val_loss: 0.2967 - val_accuracy: 0.8904\n",
            "Epoch 6/20\n",
            "30/30 [==============================] - 1s 19ms/step - loss: 0.2113 - accuracy: 0.9385 - val_loss: 0.2827 - val_accuracy: 0.8933\n",
            "Epoch 7/20\n",
            "30/30 [==============================] - 1s 19ms/step - loss: 0.1852 - accuracy: 0.9451 - val_loss: 0.2759 - val_accuracy: 0.8931\n",
            "Epoch 8/20\n",
            "30/30 [==============================] - 1s 19ms/step - loss: 0.1634 - accuracy: 0.9522 - val_loss: 0.2735 - val_accuracy: 0.8923\n",
            "Epoch 9/20\n",
            "30/30 [==============================] - 1s 19ms/step - loss: 0.1454 - accuracy: 0.9589 - val_loss: 0.2752 - val_accuracy: 0.8911\n",
            "Epoch 10/20\n",
            "30/30 [==============================] - 1s 20ms/step - loss: 0.1308 - accuracy: 0.9637 - val_loss: 0.2847 - val_accuracy: 0.8885\n",
            "Epoch 11/20\n",
            "30/30 [==============================] - 1s 19ms/step - loss: 0.1171 - accuracy: 0.9676 - val_loss: 0.2904 - val_accuracy: 0.8855\n",
            "Epoch 12/20\n",
            "30/30 [==============================] - 1s 20ms/step - loss: 0.1052 - accuracy: 0.9717 - val_loss: 0.2986 - val_accuracy: 0.8856\n",
            "Epoch 13/20\n",
            "30/30 [==============================] - 1s 19ms/step - loss: 0.0950 - accuracy: 0.9746 - val_loss: 0.3063 - val_accuracy: 0.8848\n",
            "Epoch 14/20\n",
            "30/30 [==============================] - 1s 20ms/step - loss: 0.0854 - accuracy: 0.9774 - val_loss: 0.3134 - val_accuracy: 0.8850\n",
            "Epoch 15/20\n",
            "30/30 [==============================] - 1s 20ms/step - loss: 0.0770 - accuracy: 0.9812 - val_loss: 0.3258 - val_accuracy: 0.8844\n",
            "Epoch 16/20\n",
            "30/30 [==============================] - 1s 19ms/step - loss: 0.0695 - accuracy: 0.9841 - val_loss: 0.3381 - val_accuracy: 0.8828\n",
            "Epoch 17/20\n",
            "30/30 [==============================] - 1s 19ms/step - loss: 0.0624 - accuracy: 0.9855 - val_loss: 0.3584 - val_accuracy: 0.8784\n",
            "Epoch 18/20\n",
            "30/30 [==============================] - 1s 19ms/step - loss: 0.0567 - accuracy: 0.9868 - val_loss: 0.3701 - val_accuracy: 0.8788\n",
            "Epoch 19/20\n",
            "30/30 [==============================] - 1s 19ms/step - loss: 0.0512 - accuracy: 0.9884 - val_loss: 0.3891 - val_accuracy: 0.8762\n",
            "Epoch 20/20\n",
            "30/30 [==============================] - 1s 19ms/step - loss: 0.0461 - accuracy: 0.9902 - val_loss: 0.3959 - val_accuracy: 0.8782\n"
          ]
        }
      ]
    },
    {
      "cell_type": "code",
      "source": [
        "import matplotlib.pyplot as plt\n",
        "val_loss = history_smaller_model.history[\"val_loss\"]\n",
        "epochs = range(1, 21)\n",
        "plt.plot(epochs, val_loss, \"b--\",\n",
        "         label=\"Validation loss\")\n",
        "plt.title(\"Effect of increased capacity on validation loss\")\n",
        "plt.xlabel(\"Epochs\")\n",
        "plt.ylabel(\"Loss\")\n",
        "plt.legend()"
      ],
      "metadata": {
        "colab": {
          "base_uri": "https://localhost:8080/",
          "height": 312
        },
        "id": "1_jRI5oA0t62",
        "outputId": "c2a45ed2-3b45-40cf-eb19-737a4e869647"
      },
      "execution_count": 19,
      "outputs": [
        {
          "output_type": "execute_result",
          "data": {
            "text/plain": [
              "<matplotlib.legend.Legend at 0x7f2aceb4fad0>"
            ]
          },
          "metadata": {},
          "execution_count": 19
        },
        {
          "output_type": "display_data",
          "data": {
            "text/plain": [
              "<Figure size 432x288 with 1 Axes>"
            ],
            "image/png": "[encoded data removed]"
          },
          "metadata": {
            "needs_background": "light"
          }
        }
      ]
    },
    {
      "cell_type": "code",
      "source": [
        "model = keras.Sequential([\n",
        "    layers.Dense(512, activation=\"relu\"),\n",
        "    layers.Dense(512, activation=\"relu\"),\n",
        "    layers.Dense(1, activation=\"sigmoid\")\n",
        "])\n",
        "model.compile(optimizer=\"rmsprop\",\n",
        "              loss=\"binary_crossentropy\",\n",
        "              metrics=[\"accuracy\"])\n",
        "history_larger_model = model.fit(\n",
        "    train_data, train_labels,\n",
        "    epochs=20, batch_size=512, validation_split=0.4)"
      ],
      "metadata": {
        "colab": {
          "base_uri": "https://localhost:8080/"
        },
        "id": "Eyjd22CO0Cyp",
        "outputId": "84c07b77-9581-4fd9-a28b-116ff8771dd3"
      },
      "execution_count": 18,
      "outputs": [
        {
          "output_type": "stream",
          "name": "stdout",
          "text": [
            "Epoch 1/20\n",
            "30/30 [==============================] - 2s 37ms/step - loss: 0.5266 - accuracy: 0.7582 - val_loss: 0.4456 - val_accuracy: 0.7868\n",
            "Epoch 2/20\n",
            "30/30 [==============================] - 1s 22ms/step - loss: 0.2473 - accuracy: 0.8998 - val_loss: 0.2810 - val_accuracy: 0.8796\n",
            "Epoch 3/20\n",
            "30/30 [==============================] - 1s 21ms/step - loss: 0.1478 - accuracy: 0.9464 - val_loss: 0.3027 - val_accuracy: 0.8912\n",
            "Epoch 4/20\n",
            "30/30 [==============================] - 1s 21ms/step - loss: 0.0853 - accuracy: 0.9727 - val_loss: 0.3689 - val_accuracy: 0.8895\n",
            "Epoch 5/20\n",
            "30/30 [==============================] - 1s 22ms/step - loss: 0.0973 - accuracy: 0.9784 - val_loss: 0.3380 - val_accuracy: 0.8879\n",
            "Epoch 6/20\n",
            "30/30 [==============================] - 1s 21ms/step - loss: 0.0061 - accuracy: 0.9995 - val_loss: 0.5236 - val_accuracy: 0.8875\n",
            "Epoch 7/20\n",
            "30/30 [==============================] - 1s 21ms/step - loss: 0.0015 - accuracy: 0.9997 - val_loss: 0.6147 - val_accuracy: 0.8874\n",
            "Epoch 8/20\n",
            "30/30 [==============================] - 1s 21ms/step - loss: 2.6316e-04 - accuracy: 0.9999 - val_loss: 0.7584 - val_accuracy: 0.8865\n",
            "Epoch 9/20\n",
            "30/30 [==============================] - 1s 21ms/step - loss: 2.3524e-05 - accuracy: 1.0000 - val_loss: 0.9518 - val_accuracy: 0.8815\n",
            "Epoch 10/20\n",
            "30/30 [==============================] - 1s 21ms/step - loss: 0.3129 - accuracy: 0.9807 - val_loss: 0.6595 - val_accuracy: 0.8851\n",
            "Epoch 11/20\n",
            "30/30 [==============================] - 1s 21ms/step - loss: 8.2082e-05 - accuracy: 1.0000 - val_loss: 0.6980 - val_accuracy: 0.8833\n",
            "Epoch 12/20\n",
            "30/30 [==============================] - 1s 21ms/step - loss: 3.8955e-05 - accuracy: 1.0000 - val_loss: 0.7567 - val_accuracy: 0.8836\n",
            "Epoch 13/20\n",
            "30/30 [==============================] - 1s 21ms/step - loss: 1.7890e-05 - accuracy: 1.0000 - val_loss: 0.8274 - val_accuracy: 0.8841\n",
            "Epoch 14/20\n",
            "30/30 [==============================] - 1s 22ms/step - loss: 6.3919e-06 - accuracy: 1.0000 - val_loss: 0.9234 - val_accuracy: 0.8838\n",
            "Epoch 15/20\n",
            "30/30 [==============================] - 1s 21ms/step - loss: 1.9521e-06 - accuracy: 1.0000 - val_loss: 1.0212 - val_accuracy: 0.8840\n",
            "Epoch 16/20\n",
            "30/30 [==============================] - 1s 22ms/step - loss: 6.2330e-07 - accuracy: 1.0000 - val_loss: 1.1070 - val_accuracy: 0.8846\n",
            "Epoch 17/20\n",
            "30/30 [==============================] - 1s 22ms/step - loss: 2.1939e-07 - accuracy: 1.0000 - val_loss: 1.2097 - val_accuracy: 0.8849\n",
            "Epoch 18/20\n",
            "30/30 [==============================] - 1s 21ms/step - loss: 8.6848e-08 - accuracy: 1.0000 - val_loss: 1.2594 - val_accuracy: 0.8847\n",
            "Epoch 19/20\n",
            "30/30 [==============================] - 1s 21ms/step - loss: 4.1016e-08 - accuracy: 1.0000 - val_loss: 1.3017 - val_accuracy: 0.8846\n",
            "Epoch 20/20\n",
            "30/30 [==============================] - 1s 21ms/step - loss: 2.3652e-08 - accuracy: 1.0000 - val_loss: 1.3342 - val_accuracy: 0.8850\n"
          ]
        }
      ]
    },
    {
      "cell_type": "code",
      "source": [
        "import matplotlib.pyplot as plt\n",
        "val_loss = history_larger_model.history[\"val_loss\"]\n",
        "epochs = range(1, 21)\n",
        "plt.plot(epochs, val_loss, \"b--\",\n",
        "         label=\"Validation loss\")\n",
        "plt.title(\"Effect of increased capacity on validation loss\")\n",
        "plt.xlabel(\"Epochs\")\n",
        "plt.ylabel(\"Loss\")\n",
        "plt.legend()"
      ],
      "metadata": {
        "colab": {
          "base_uri": "https://localhost:8080/",
          "height": 312
        },
        "id": "OdoGBWg-0IxN",
        "outputId": "7cd762af-86a6-42bd-bcfe-0f163261de90"
      },
      "execution_count": 20,
      "outputs": [
        {
          "output_type": "execute_result",
          "data": {
            "text/plain": [
              "<matplotlib.legend.Legend at 0x7f2acdc1c3d0>"
            ]
          },
          "metadata": {},
          "execution_count": 20
        },
        {
          "output_type": "display_data",
          "data": {
            "text/plain": [
              "<Figure size 432x288 with 1 Axes>"
            ],
            "image/png": "[encoded data removed]"
          },
          "metadata": {
            "needs_background": "light"
          }
        }
      ]
    },
    {
      "cell_type": "markdown",
      "source": [
        "## L2 weight regularization"
      ],
      "metadata": {
        "id": "KPWjSjWO0zXZ"
      }
    },
    {
      "cell_type": "code",
      "source": [
        "from tensorflow.keras import regularizers\n",
        "\n",
        "model = keras.Sequential([\n",
        "  layers.Dense(\n",
        "      16,\n",
        "      kernel_regularizer=regularizers.l2(0.002),\n",
        "      activation=\"relu\"\n",
        "  ),\n",
        "  layers.Dense(\n",
        "      16,\n",
        "      kernel_regularizer=regularizers.l2(0.002),\n",
        "      activation=\"relu\"\n",
        "  ),\n",
        "  layers.Dense(1, activation=\"sigmoid\")\n",
        "])\n",
        "\n",
        "model.compile(\n",
        "    optimizer=\"rmsprop\",\n",
        "    loss=\"binary_crossentropy\",\n",
        "    metrics=[\"accuracy\"]\n",
        ")\n",
        "\n",
        "history_l2_reg = model.fit(\n",
        "    train_data,\n",
        "    train_labels,\n",
        "    epochs=20,\n",
        "    batch_size=512,\n",
        "    validation_split=0.4\n",
        ")"
      ],
      "metadata": {
        "colab": {
          "base_uri": "https://localhost:8080/"
        },
        "id": "52X4On_j07IR",
        "outputId": "8a0665af-c5af-4852-e16e-fa635c8a1e59"
      },
      "execution_count": 26,
      "outputs": [
        {
          "output_type": "stream",
          "name": "stdout",
          "text": [
            "Epoch 1/20\n",
            "30/30 [==============================] - 2s 35ms/step - loss: 0.5951 - accuracy: 0.7883 - val_loss: 0.4985 - val_accuracy: 0.8297\n",
            "Epoch 2/20\n",
            "30/30 [==============================] - 1s 20ms/step - loss: 0.4033 - accuracy: 0.8925 - val_loss: 0.3907 - val_accuracy: 0.8865\n",
            "Epoch 3/20\n",
            "30/30 [==============================] - 1s 19ms/step - loss: 0.3363 - accuracy: 0.9135 - val_loss: 0.3949 - val_accuracy: 0.8703\n",
            "Epoch 4/20\n",
            "30/30 [==============================] - 1s 20ms/step - loss: 0.3010 - accuracy: 0.9228 - val_loss: 0.3563 - val_accuracy: 0.8906\n",
            "Epoch 5/20\n",
            "30/30 [==============================] - 1s 19ms/step - loss: 0.2786 - accuracy: 0.9322 - val_loss: 0.3687 - val_accuracy: 0.8810\n",
            "Epoch 6/20\n",
            "30/30 [==============================] - 1s 26ms/step - loss: 0.2638 - accuracy: 0.9382 - val_loss: 0.4131 - val_accuracy: 0.8646\n",
            "Epoch 7/20\n",
            "30/30 [==============================] - 1s 20ms/step - loss: 0.2536 - accuracy: 0.9414 - val_loss: 0.3693 - val_accuracy: 0.8821\n",
            "Epoch 8/20\n",
            "30/30 [==============================] - 1s 19ms/step - loss: 0.2460 - accuracy: 0.9426 - val_loss: 0.3802 - val_accuracy: 0.8778\n",
            "Epoch 9/20\n",
            "30/30 [==============================] - 1s 20ms/step - loss: 0.2388 - accuracy: 0.9459 - val_loss: 0.3803 - val_accuracy: 0.8794\n",
            "Epoch 10/20\n",
            "30/30 [==============================] - 1s 20ms/step - loss: 0.2348 - accuracy: 0.9460 - val_loss: 0.3746 - val_accuracy: 0.8812\n",
            "Epoch 11/20\n",
            "30/30 [==============================] - 1s 19ms/step - loss: 0.2261 - accuracy: 0.9509 - val_loss: 0.3906 - val_accuracy: 0.8765\n",
            "Epoch 12/20\n",
            "30/30 [==============================] - 1s 20ms/step - loss: 0.2238 - accuracy: 0.9513 - val_loss: 0.3864 - val_accuracy: 0.8783\n",
            "Epoch 13/20\n",
            "30/30 [==============================] - 1s 20ms/step - loss: 0.2166 - accuracy: 0.9553 - val_loss: 0.3950 - val_accuracy: 0.8765\n",
            "Epoch 14/20\n",
            "30/30 [==============================] - 1s 21ms/step - loss: 0.2186 - accuracy: 0.9532 - val_loss: 0.4206 - val_accuracy: 0.8681\n",
            "Epoch 15/20\n",
            "30/30 [==============================] - 1s 19ms/step - loss: 0.2174 - accuracy: 0.9528 - val_loss: 0.4025 - val_accuracy: 0.8762\n",
            "Epoch 16/20\n",
            "30/30 [==============================] - 1s 20ms/step - loss: 0.2113 - accuracy: 0.9559 - val_loss: 0.4038 - val_accuracy: 0.8782\n",
            "Epoch 17/20\n",
            "30/30 [==============================] - 1s 19ms/step - loss: 0.2062 - accuracy: 0.9569 - val_loss: 0.4354 - val_accuracy: 0.8672\n",
            "Epoch 18/20\n",
            "30/30 [==============================] - 1s 20ms/step - loss: 0.2055 - accuracy: 0.9591 - val_loss: 0.4472 - val_accuracy: 0.8653\n",
            "Epoch 19/20\n",
            "30/30 [==============================] - 1s 20ms/step - loss: 0.2047 - accuracy: 0.9578 - val_loss: 0.4344 - val_accuracy: 0.8713\n",
            "Epoch 20/20\n",
            "30/30 [==============================] - 1s 19ms/step - loss: 0.2019 - accuracy: 0.9589 - val_loss: 0.4259 - val_accuracy: 0.8715\n"
          ]
        }
      ]
    },
    {
      "cell_type": "code",
      "source": [
        "import matplotlib.pyplot as plt\n",
        "val_loss = history_l2_reg.history[\"val_loss\"]\n",
        "epochs = range(1, 21)\n",
        "plt.plot(epochs, val_loss, \"b--\",\n",
        "         label=\"Validation loss\")\n",
        "plt.title(\"Effect of increased capacity on validation loss\")\n",
        "plt.xlabel(\"Epochs\")\n",
        "plt.ylabel(\"Loss\")\n",
        "plt.legend()"
      ],
      "metadata": {
        "colab": {
          "base_uri": "https://localhost:8080/",
          "height": 312
        },
        "id": "9ZDAKzQc1vM0",
        "outputId": "db923d6f-59c8-41d4-ccb2-7decb06871ea"
      },
      "execution_count": 27,
      "outputs": [
        {
          "output_type": "execute_result",
          "data": {
            "text/plain": [
              "<matplotlib.legend.Legend at 0x7f2ad4b64c90>"
            ]
          },
          "metadata": {},
          "execution_count": 27
        },
        {
          "output_type": "display_data",
          "data": {
            "text/plain": [
              "<Figure size 432x288 with 1 Axes>"
            ],
            "image/png": "[encoded data removed]"
          },
          "metadata": {
            "needs_background": "light"
          }
        }
      ]
    },
    {
      "cell_type": "code",
      "source": [
        "from tensorflow.keras import regularizers\n",
        "\n",
        "regularizers.l1(0.001)\n",
        "regularizers.l1_l2(l1=0.001, l2=0.001)"
      ],
      "metadata": {
        "colab": {
          "base_uri": "https://localhost:8080/"
        },
        "id": "CrEIXDxk2Dnq",
        "outputId": "d2d13c99-43dd-4846-9d82-f0790eb10a0f"
      },
      "execution_count": 28,
      "outputs": [
        {
          "output_type": "execute_result",
          "data": {
            "text/plain": [
              "<keras.regularizers.L1L2 at 0x7f2ad4d1c650>"
            ]
          },
          "metadata": {},
          "execution_count": 28
        }
      ]
    },
    {
      "cell_type": "code",
      "source": [
        "model = keras.Sequential([\n",
        "  layers.Dense(16, activation=\"relu\"),\n",
        "  layers.Dropout(0.5),\n",
        "  layers.Dense(16, activation=\"relu\"),\n",
        "  layers.Dropout(0.5),\n",
        "  layers.Dense(1, activation=\"sigmoid\")\n",
        "])\n",
        "\n",
        "model.compile(\n",
        "    optimizer=\"rmsprop\",\n",
        "    loss=\"binary_crossentropy\",\n",
        "    metrics=[\"accuracy\"]\n",
        ")\n",
        "\n",
        "history_dropout = model.fit(\n",
        "    train_data,\n",
        "    train_labels,\n",
        "    epochs=20,\n",
        "    batch_size=512,\n",
        "    validation_split=0.4\n",
        ")"
      ],
      "metadata": {
        "colab": {
          "base_uri": "https://localhost:8080/"
        },
        "id": "kLwQB4M62Q1S",
        "outputId": "621d4935-4b89-4761-b133-c8db574d3a41"
      },
      "execution_count": 30,
      "outputs": [
        {
          "output_type": "stream",
          "name": "stdout",
          "text": [
            "Epoch 1/20\n",
            "30/30 [==============================] - 2s 35ms/step - loss: 0.6550 - accuracy: 0.6007 - val_loss: 0.5778 - val_accuracy: 0.7992\n",
            "Epoch 2/20\n",
            "30/30 [==============================] - 1s 20ms/step - loss: 0.5546 - accuracy: 0.7283 - val_loss: 0.4615 - val_accuracy: 0.8528\n",
            "Epoch 3/20\n",
            "30/30 [==============================] - 1s 20ms/step - loss: 0.4667 - accuracy: 0.7991 - val_loss: 0.3664 - val_accuracy: 0.8803\n",
            "Epoch 4/20\n",
            "30/30 [==============================] - 1s 19ms/step - loss: 0.3975 - accuracy: 0.8429 - val_loss: 0.3274 - val_accuracy: 0.8812\n",
            "Epoch 5/20\n",
            "30/30 [==============================] - 1s 19ms/step - loss: 0.3390 - accuracy: 0.8794 - val_loss: 0.2914 - val_accuracy: 0.8916\n",
            "Epoch 6/20\n",
            "30/30 [==============================] - 1s 19ms/step - loss: 0.2936 - accuracy: 0.9031 - val_loss: 0.2784 - val_accuracy: 0.8911\n",
            "Epoch 7/20\n",
            "30/30 [==============================] - 1s 19ms/step - loss: 0.2535 - accuracy: 0.9164 - val_loss: 0.3007 - val_accuracy: 0.8835\n",
            "Epoch 8/20\n",
            "30/30 [==============================] - 1s 20ms/step - loss: 0.2373 - accuracy: 0.9281 - val_loss: 0.2783 - val_accuracy: 0.8915\n",
            "Epoch 9/20\n",
            "30/30 [==============================] - 1s 20ms/step - loss: 0.2067 - accuracy: 0.9346 - val_loss: 0.2889 - val_accuracy: 0.8939\n",
            "Epoch 10/20\n",
            "30/30 [==============================] - 1s 19ms/step - loss: 0.1866 - accuracy: 0.9463 - val_loss: 0.3116 - val_accuracy: 0.8851\n",
            "Epoch 11/20\n",
            "30/30 [==============================] - 1s 20ms/step - loss: 0.1663 - accuracy: 0.9527 - val_loss: 0.3336 - val_accuracy: 0.8894\n",
            "Epoch 12/20\n",
            "30/30 [==============================] - 1s 19ms/step - loss: 0.1514 - accuracy: 0.9578 - val_loss: 0.3384 - val_accuracy: 0.8900\n",
            "Epoch 13/20\n",
            "30/30 [==============================] - 1s 20ms/step - loss: 0.1383 - accuracy: 0.9614 - val_loss: 0.3566 - val_accuracy: 0.8904\n",
            "Epoch 14/20\n",
            "30/30 [==============================] - 1s 19ms/step - loss: 0.1270 - accuracy: 0.9639 - val_loss: 0.4032 - val_accuracy: 0.8888\n",
            "Epoch 15/20\n",
            "30/30 [==============================] - 1s 20ms/step - loss: 0.1167 - accuracy: 0.9691 - val_loss: 0.4353 - val_accuracy: 0.8861\n",
            "Epoch 16/20\n",
            "30/30 [==============================] - 1s 20ms/step - loss: 0.1087 - accuracy: 0.9710 - val_loss: 0.4281 - val_accuracy: 0.8862\n",
            "Epoch 17/20\n",
            "30/30 [==============================] - 1s 19ms/step - loss: 0.1069 - accuracy: 0.9731 - val_loss: 0.4870 - val_accuracy: 0.8870\n",
            "Epoch 18/20\n",
            "30/30 [==============================] - 1s 20ms/step - loss: 0.0929 - accuracy: 0.9749 - val_loss: 0.4736 - val_accuracy: 0.8860\n",
            "Epoch 19/20\n",
            "30/30 [==============================] - 1s 20ms/step - loss: 0.0922 - accuracy: 0.9750 - val_loss: 0.5344 - val_accuracy: 0.8877\n",
            "Epoch 20/20\n",
            "30/30 [==============================] - 1s 20ms/step - loss: 0.0894 - accuracy: 0.9763 - val_loss: 0.5575 - val_accuracy: 0.8870\n"
          ]
        }
      ]
    },
    {
      "cell_type": "code",
      "source": [
        "import matplotlib.pyplot as plt\n",
        "val_loss = history_dropout.history[\"val_loss\"]\n",
        "epochs = range(1, 21)\n",
        "plt.plot(epochs, val_loss, \"b--\",\n",
        "         label=\"Validation loss\")\n",
        "plt.title(\"Effect of increased capacity on validation loss\")\n",
        "plt.xlabel(\"Epochs\")\n",
        "plt.ylabel(\"Loss\")\n",
        "plt.legend()"
      ],
      "metadata": {
        "colab": {
          "base_uri": "https://localhost:8080/",
          "height": 312
        },
        "id": "07bE1P8V2y8p",
        "outputId": "930e8639-80d7-4cbd-c17c-f72bdb8162d3"
      },
      "execution_count": 31,
      "outputs": [
        {
          "output_type": "execute_result",
          "data": {
            "text/plain": [
              "<matplotlib.legend.Legend at 0x7f2ad5bea790>"
            ]
          },
          "metadata": {},
          "execution_count": 31
        },
        {
          "output_type": "display_data",
          "data": {
            "text/plain": [
              "<Figure size 432x288 with 1 Axes>"
            ],
            "image/png": "[encoded data removed]"
          },
          "metadata": {
            "needs_background": "light"
          }
        }
      ]
    },
    {
      "cell_type": "code",
      "source": [
        ""
      ],
      "metadata": {
        "id": "6xTUSeg926mN"
      },
      "execution_count": null,
      "outputs": []
    }
  ]
}